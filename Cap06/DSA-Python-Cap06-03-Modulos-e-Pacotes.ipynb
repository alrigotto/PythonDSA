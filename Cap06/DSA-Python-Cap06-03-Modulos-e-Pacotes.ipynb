{
 "cells": [
  {
   "cell_type": "markdown",
   "metadata": {},
   "source": [
    "# <font color='blue'>Data Science Academy</font>\n",
    "\n",
    "## <font color='blue'>Fundamentos de Linguagem Python Para Análise de Dados e Data Science</font>\n",
    "\n",
    "## <font color='blue'>Capítulo 6 - Pacotes e Módulos</font>\n",
    "\n",
    "### Andre | Dez 2024"
   ]
  },
  {
   "cell_type": "code",
   "execution_count": 1,
   "metadata": {},
   "outputs": [
    {
     "name": "stdout",
     "output_type": "stream",
     "text": [
      "Versão da Linguagem Python Usada Neste Jupyter Notebook: 3.9.13\n"
     ]
    }
   ],
   "source": [
    "# Versão da Linguagem Python\n",
    "from platform import python_version\n",
    "print('Versão da Linguagem Python Usada Neste Jupyter Notebook:', python_version())"
   ]
  },
  {
   "cell_type": "markdown",
   "metadata": {},
   "source": [
    "## Pacotes e Módulos\n",
    "\n",
    "Em Python, um módulo é um arquivo (script) que contém código Python e pode ser importado em outros arquivos Python. Ele é usado para compartilhar funções, classes e variáveis entre arquivos.\n",
    "\n",
    "Já um pacote é uma coleção de módulos organizados em uma estrutura de diretórios. Ele permite a divisão de um aplicativo em múltiplos módulos, o que facilita a manutenção e o desenvolvimento.\n",
    "\n",
    "Visite o PyPi, repositório de pacotes da Linguagem Python: https://pypi.org/"
   ]
  },
  {
   "cell_type": "code",
   "execution_count": 2,
   "metadata": {},
   "outputs": [],
   "source": [
    "# Importando um pacote Python\n",
    "import numpy"
   ]
  },
  {
   "cell_type": "code",
   "execution_count": 3,
   "metadata": {},
   "outputs": [
    {
     "data": {
      "text/plain": [
       "['ALLOW_THREADS',\n",
       " 'AxisError',\n",
       " 'BUFSIZE',\n",
       " 'Bytes0',\n",
       " 'CLIP',\n",
       " 'ComplexWarning',\n",
       " 'DataSource',\n",
       " 'Datetime64',\n",
       " 'ERR_CALL',\n",
       " 'ERR_DEFAULT',\n",
       " 'ERR_IGNORE',\n",
       " 'ERR_LOG',\n",
       " 'ERR_PRINT',\n",
       " 'ERR_RAISE',\n",
       " 'ERR_WARN',\n",
       " 'FLOATING_POINT_SUPPORT',\n",
       " 'FPE_DIVIDEBYZERO',\n",
       " 'FPE_INVALID',\n",
       " 'FPE_OVERFLOW',\n",
       " 'FPE_UNDERFLOW',\n",
       " 'False_',\n",
       " 'Inf',\n",
       " 'Infinity',\n",
       " 'MAXDIMS',\n",
       " 'MAY_SHARE_BOUNDS',\n",
       " 'MAY_SHARE_EXACT',\n",
       " 'MachAr',\n",
       " 'ModuleDeprecationWarning',\n",
       " 'NAN',\n",
       " 'NINF',\n",
       " 'NZERO',\n",
       " 'NaN',\n",
       " 'PINF',\n",
       " 'PZERO',\n",
       " 'RAISE',\n",
       " 'RankWarning',\n",
       " 'SHIFT_DIVIDEBYZERO',\n",
       " 'SHIFT_INVALID',\n",
       " 'SHIFT_OVERFLOW',\n",
       " 'SHIFT_UNDERFLOW',\n",
       " 'ScalarType',\n",
       " 'Str0',\n",
       " 'Tester',\n",
       " 'TooHardError',\n",
       " 'True_',\n",
       " 'UFUNC_BUFSIZE_DEFAULT',\n",
       " 'UFUNC_PYVALS_NAME',\n",
       " 'Uint64',\n",
       " 'VisibleDeprecationWarning',\n",
       " 'WRAP',\n",
       " '_NoValue',\n",
       " '_UFUNC_API',\n",
       " '__NUMPY_SETUP__',\n",
       " '__all__',\n",
       " '__builtins__',\n",
       " '__cached__',\n",
       " '__config__',\n",
       " '__deprecated_attrs__',\n",
       " '__dir__',\n",
       " '__doc__',\n",
       " '__expired_functions__',\n",
       " '__file__',\n",
       " '__getattr__',\n",
       " '__git_version__',\n",
       " '__loader__',\n",
       " '__mkl_version__',\n",
       " '__name__',\n",
       " '__package__',\n",
       " '__path__',\n",
       " '__spec__',\n",
       " '__version__',\n",
       " '_add_newdoc_ufunc',\n",
       " '_distributor_init',\n",
       " '_financial_names',\n",
       " '_globals',\n",
       " '_mat',\n",
       " '_pytesttester',\n",
       " '_version',\n",
       " 'abs',\n",
       " 'absolute',\n",
       " 'add',\n",
       " 'add_docstring',\n",
       " 'add_newdoc',\n",
       " 'add_newdoc_ufunc',\n",
       " 'alen',\n",
       " 'all',\n",
       " 'allclose',\n",
       " 'alltrue',\n",
       " 'amax',\n",
       " 'amin',\n",
       " 'angle',\n",
       " 'any',\n",
       " 'append',\n",
       " 'apply_along_axis',\n",
       " 'apply_over_axes',\n",
       " 'arange',\n",
       " 'arccos',\n",
       " 'arccosh',\n",
       " 'arcsin',\n",
       " 'arcsinh',\n",
       " 'arctan',\n",
       " 'arctan2',\n",
       " 'arctanh',\n",
       " 'argmax',\n",
       " 'argmin',\n",
       " 'argpartition',\n",
       " 'argsort',\n",
       " 'argwhere',\n",
       " 'around',\n",
       " 'array',\n",
       " 'array2string',\n",
       " 'array_equal',\n",
       " 'array_equiv',\n",
       " 'array_repr',\n",
       " 'array_split',\n",
       " 'array_str',\n",
       " 'asanyarray',\n",
       " 'asarray',\n",
       " 'asarray_chkfinite',\n",
       " 'ascontiguousarray',\n",
       " 'asfarray',\n",
       " 'asfortranarray',\n",
       " 'asmatrix',\n",
       " 'asscalar',\n",
       " 'atleast_1d',\n",
       " 'atleast_2d',\n",
       " 'atleast_3d',\n",
       " 'average',\n",
       " 'bartlett',\n",
       " 'base_repr',\n",
       " 'binary_repr',\n",
       " 'bincount',\n",
       " 'bitwise_and',\n",
       " 'bitwise_not',\n",
       " 'bitwise_or',\n",
       " 'bitwise_xor',\n",
       " 'blackman',\n",
       " 'block',\n",
       " 'bmat',\n",
       " 'bool8',\n",
       " 'bool_',\n",
       " 'broadcast',\n",
       " 'broadcast_arrays',\n",
       " 'broadcast_shapes',\n",
       " 'broadcast_to',\n",
       " 'busday_count',\n",
       " 'busday_offset',\n",
       " 'busdaycalendar',\n",
       " 'byte',\n",
       " 'byte_bounds',\n",
       " 'bytes0',\n",
       " 'bytes_',\n",
       " 'c_',\n",
       " 'can_cast',\n",
       " 'cast',\n",
       " 'cbrt',\n",
       " 'cdouble',\n",
       " 'ceil',\n",
       " 'cfloat',\n",
       " 'char',\n",
       " 'character',\n",
       " 'chararray',\n",
       " 'choose',\n",
       " 'clip',\n",
       " 'clongdouble',\n",
       " 'clongfloat',\n",
       " 'column_stack',\n",
       " 'common_type',\n",
       " 'compare_chararrays',\n",
       " 'compat',\n",
       " 'complex128',\n",
       " 'complex64',\n",
       " 'complex_',\n",
       " 'complexfloating',\n",
       " 'compress',\n",
       " 'concatenate',\n",
       " 'conj',\n",
       " 'conjugate',\n",
       " 'convolve',\n",
       " 'copy',\n",
       " 'copysign',\n",
       " 'copyto',\n",
       " 'core',\n",
       " 'corrcoef',\n",
       " 'correlate',\n",
       " 'cos',\n",
       " 'cosh',\n",
       " 'count_nonzero',\n",
       " 'cov',\n",
       " 'cross',\n",
       " 'csingle',\n",
       " 'ctypeslib',\n",
       " 'cumprod',\n",
       " 'cumproduct',\n",
       " 'cumsum',\n",
       " 'datetime64',\n",
       " 'datetime_as_string',\n",
       " 'datetime_data',\n",
       " 'deg2rad',\n",
       " 'degrees',\n",
       " 'delete',\n",
       " 'deprecate',\n",
       " 'deprecate_with_doc',\n",
       " 'diag',\n",
       " 'diag_indices',\n",
       " 'diag_indices_from',\n",
       " 'diagflat',\n",
       " 'diagonal',\n",
       " 'diff',\n",
       " 'digitize',\n",
       " 'disp',\n",
       " 'divide',\n",
       " 'divmod',\n",
       " 'dot',\n",
       " 'double',\n",
       " 'dsplit',\n",
       " 'dstack',\n",
       " 'dtype',\n",
       " 'e',\n",
       " 'ediff1d',\n",
       " 'einsum',\n",
       " 'einsum_path',\n",
       " 'emath',\n",
       " 'empty',\n",
       " 'empty_like',\n",
       " 'equal',\n",
       " 'errstate',\n",
       " 'euler_gamma',\n",
       " 'exp',\n",
       " 'exp2',\n",
       " 'expand_dims',\n",
       " 'expm1',\n",
       " 'extract',\n",
       " 'eye',\n",
       " 'fabs',\n",
       " 'fastCopyAndTranspose',\n",
       " 'fft',\n",
       " 'fill_diagonal',\n",
       " 'find_common_type',\n",
       " 'finfo',\n",
       " 'fix',\n",
       " 'flatiter',\n",
       " 'flatnonzero',\n",
       " 'flexible',\n",
       " 'flip',\n",
       " 'fliplr',\n",
       " 'flipud',\n",
       " 'float16',\n",
       " 'float32',\n",
       " 'float64',\n",
       " 'float_',\n",
       " 'float_power',\n",
       " 'floating',\n",
       " 'floor',\n",
       " 'floor_divide',\n",
       " 'fmax',\n",
       " 'fmin',\n",
       " 'fmod',\n",
       " 'format_float_positional',\n",
       " 'format_float_scientific',\n",
       " 'format_parser',\n",
       " 'frexp',\n",
       " 'frombuffer',\n",
       " 'fromfile',\n",
       " 'fromfunction',\n",
       " 'fromiter',\n",
       " 'frompyfunc',\n",
       " 'fromregex',\n",
       " 'fromstring',\n",
       " 'full',\n",
       " 'full_like',\n",
       " 'gcd',\n",
       " 'generic',\n",
       " 'genfromtxt',\n",
       " 'geomspace',\n",
       " 'get_array_wrap',\n",
       " 'get_include',\n",
       " 'get_printoptions',\n",
       " 'getbufsize',\n",
       " 'geterr',\n",
       " 'geterrcall',\n",
       " 'geterrobj',\n",
       " 'gradient',\n",
       " 'greater',\n",
       " 'greater_equal',\n",
       " 'half',\n",
       " 'hamming',\n",
       " 'hanning',\n",
       " 'heaviside',\n",
       " 'histogram',\n",
       " 'histogram2d',\n",
       " 'histogram_bin_edges',\n",
       " 'histogramdd',\n",
       " 'hsplit',\n",
       " 'hstack',\n",
       " 'hypot',\n",
       " 'i0',\n",
       " 'identity',\n",
       " 'iinfo',\n",
       " 'imag',\n",
       " 'in1d',\n",
       " 'index_exp',\n",
       " 'indices',\n",
       " 'inexact',\n",
       " 'inf',\n",
       " 'info',\n",
       " 'infty',\n",
       " 'inner',\n",
       " 'insert',\n",
       " 'int0',\n",
       " 'int16',\n",
       " 'int32',\n",
       " 'int64',\n",
       " 'int8',\n",
       " 'int_',\n",
       " 'intc',\n",
       " 'integer',\n",
       " 'interp',\n",
       " 'intersect1d',\n",
       " 'intp',\n",
       " 'invert',\n",
       " 'is_busday',\n",
       " 'isclose',\n",
       " 'iscomplex',\n",
       " 'iscomplexobj',\n",
       " 'isfinite',\n",
       " 'isfortran',\n",
       " 'isin',\n",
       " 'isinf',\n",
       " 'isnan',\n",
       " 'isnat',\n",
       " 'isneginf',\n",
       " 'isposinf',\n",
       " 'isreal',\n",
       " 'isrealobj',\n",
       " 'isscalar',\n",
       " 'issctype',\n",
       " 'issubclass_',\n",
       " 'issubdtype',\n",
       " 'issubsctype',\n",
       " 'iterable',\n",
       " 'ix_',\n",
       " 'kaiser',\n",
       " 'kron',\n",
       " 'lcm',\n",
       " 'ldexp',\n",
       " 'left_shift',\n",
       " 'less',\n",
       " 'less_equal',\n",
       " 'lexsort',\n",
       " 'lib',\n",
       " 'linalg',\n",
       " 'linspace',\n",
       " 'little_endian',\n",
       " 'load',\n",
       " 'loads',\n",
       " 'loadtxt',\n",
       " 'log',\n",
       " 'log10',\n",
       " 'log1p',\n",
       " 'log2',\n",
       " 'logaddexp',\n",
       " 'logaddexp2',\n",
       " 'logical_and',\n",
       " 'logical_not',\n",
       " 'logical_or',\n",
       " 'logical_xor',\n",
       " 'logspace',\n",
       " 'longcomplex',\n",
       " 'longdouble',\n",
       " 'longfloat',\n",
       " 'longlong',\n",
       " 'lookfor',\n",
       " 'ma',\n",
       " 'mafromtxt',\n",
       " 'mask_indices',\n",
       " 'mat',\n",
       " 'math',\n",
       " 'matmul',\n",
       " 'matrix',\n",
       " 'matrixlib',\n",
       " 'max',\n",
       " 'maximum',\n",
       " 'maximum_sctype',\n",
       " 'may_share_memory',\n",
       " 'mean',\n",
       " 'median',\n",
       " 'memmap',\n",
       " 'meshgrid',\n",
       " 'mgrid',\n",
       " 'min',\n",
       " 'min_scalar_type',\n",
       " 'minimum',\n",
       " 'mintypecode',\n",
       " 'mkl',\n",
       " 'mod',\n",
       " 'modf',\n",
       " 'moveaxis',\n",
       " 'msort',\n",
       " 'multiply',\n",
       " 'nan',\n",
       " 'nan_to_num',\n",
       " 'nanargmax',\n",
       " 'nanargmin',\n",
       " 'nancumprod',\n",
       " 'nancumsum',\n",
       " 'nanmax',\n",
       " 'nanmean',\n",
       " 'nanmedian',\n",
       " 'nanmin',\n",
       " 'nanpercentile',\n",
       " 'nanprod',\n",
       " 'nanquantile',\n",
       " 'nanstd',\n",
       " 'nansum',\n",
       " 'nanvar',\n",
       " 'nbytes',\n",
       " 'ndarray',\n",
       " 'ndenumerate',\n",
       " 'ndfromtxt',\n",
       " 'ndim',\n",
       " 'ndindex',\n",
       " 'nditer',\n",
       " 'negative',\n",
       " 'nested_iters',\n",
       " 'newaxis',\n",
       " 'nextafter',\n",
       " 'nonzero',\n",
       " 'not_equal',\n",
       " 'numarray',\n",
       " 'number',\n",
       " 'obj2sctype',\n",
       " 'object0',\n",
       " 'object_',\n",
       " 'ogrid',\n",
       " 'oldnumeric',\n",
       " 'ones',\n",
       " 'ones_like',\n",
       " 'os',\n",
       " 'outer',\n",
       " 'packbits',\n",
       " 'pad',\n",
       " 'partition',\n",
       " 'percentile',\n",
       " 'pi',\n",
       " 'piecewise',\n",
       " 'place',\n",
       " 'poly',\n",
       " 'poly1d',\n",
       " 'polyadd',\n",
       " 'polyder',\n",
       " 'polydiv',\n",
       " 'polyfit',\n",
       " 'polyint',\n",
       " 'polymul',\n",
       " 'polynomial',\n",
       " 'polysub',\n",
       " 'polyval',\n",
       " 'positive',\n",
       " 'power',\n",
       " 'printoptions',\n",
       " 'prod',\n",
       " 'product',\n",
       " 'promote_types',\n",
       " 'ptp',\n",
       " 'put',\n",
       " 'put_along_axis',\n",
       " 'putmask',\n",
       " 'quantile',\n",
       " 'r_',\n",
       " 'rad2deg',\n",
       " 'radians',\n",
       " 'random',\n",
       " 'ravel',\n",
       " 'ravel_multi_index',\n",
       " 'real',\n",
       " 'real_if_close',\n",
       " 'rec',\n",
       " 'recarray',\n",
       " 'recfromcsv',\n",
       " 'recfromtxt',\n",
       " 'reciprocal',\n",
       " 'record',\n",
       " 'remainder',\n",
       " 'repeat',\n",
       " 'require',\n",
       " 'reshape',\n",
       " 'resize',\n",
       " 'result_type',\n",
       " 'right_shift',\n",
       " 'rint',\n",
       " 'roll',\n",
       " 'rollaxis',\n",
       " 'roots',\n",
       " 'rot90',\n",
       " 'round',\n",
       " 'round_',\n",
       " 'row_stack',\n",
       " 's_',\n",
       " 'safe_eval',\n",
       " 'save',\n",
       " 'savetxt',\n",
       " 'savez',\n",
       " 'savez_compressed',\n",
       " 'sctype2char',\n",
       " 'sctypeDict',\n",
       " 'sctypes',\n",
       " 'searchsorted',\n",
       " 'select',\n",
       " 'set_numeric_ops',\n",
       " 'set_printoptions',\n",
       " 'set_string_function',\n",
       " 'setbufsize',\n",
       " 'setdiff1d',\n",
       " 'seterr',\n",
       " 'seterrcall',\n",
       " 'seterrobj',\n",
       " 'setxor1d',\n",
       " 'shape',\n",
       " 'shares_memory',\n",
       " 'short',\n",
       " 'show_config',\n",
       " 'sign',\n",
       " 'signbit',\n",
       " 'signedinteger',\n",
       " 'sin',\n",
       " 'sinc',\n",
       " 'single',\n",
       " 'singlecomplex',\n",
       " 'sinh',\n",
       " 'size',\n",
       " 'sometrue',\n",
       " 'sort',\n",
       " 'sort_complex',\n",
       " 'source',\n",
       " 'spacing',\n",
       " 'split',\n",
       " 'sqrt',\n",
       " 'square',\n",
       " 'squeeze',\n",
       " 'stack',\n",
       " 'std',\n",
       " 'str0',\n",
       " 'str_',\n",
       " 'string_',\n",
       " 'subtract',\n",
       " 'sum',\n",
       " 'swapaxes',\n",
       " 'sys',\n",
       " 'take',\n",
       " 'take_along_axis',\n",
       " 'tan',\n",
       " 'tanh',\n",
       " 'tensordot',\n",
       " 'test',\n",
       " 'testing',\n",
       " 'tile',\n",
       " 'timedelta64',\n",
       " 'trace',\n",
       " 'tracemalloc_domain',\n",
       " 'transpose',\n",
       " 'trapz',\n",
       " 'tri',\n",
       " 'tril',\n",
       " 'tril_indices',\n",
       " 'tril_indices_from',\n",
       " 'trim_zeros',\n",
       " 'triu',\n",
       " 'triu_indices',\n",
       " 'triu_indices_from',\n",
       " 'true_divide',\n",
       " 'trunc',\n",
       " 'typecodes',\n",
       " 'typename',\n",
       " 'ubyte',\n",
       " 'ufunc',\n",
       " 'uint',\n",
       " 'uint0',\n",
       " 'uint16',\n",
       " 'uint32',\n",
       " 'uint64',\n",
       " 'uint8',\n",
       " 'uintc',\n",
       " 'uintp',\n",
       " 'ulonglong',\n",
       " 'unicode_',\n",
       " 'union1d',\n",
       " 'unique',\n",
       " 'unpackbits',\n",
       " 'unravel_index',\n",
       " 'unsignedinteger',\n",
       " 'unwrap',\n",
       " 'use_hugepage',\n",
       " 'ushort',\n",
       " 'vander',\n",
       " 'var',\n",
       " 'vdot',\n",
       " 'vectorize',\n",
       " 'version',\n",
       " 'void',\n",
       " 'void0',\n",
       " 'vsplit',\n",
       " 'vstack',\n",
       " 'warnings',\n",
       " 'where',\n",
       " 'who',\n",
       " 'zeros',\n",
       " 'zeros_like']"
      ]
     },
     "execution_count": 3,
     "metadata": {},
     "output_type": "execute_result"
    }
   ],
   "source": [
    "# Verificando todos os métodos e atributos disponíveis no pacote\n",
    "dir(numpy)"
   ]
  },
  {
   "cell_type": "code",
   "execution_count": 4,
   "metadata": {},
   "outputs": [
    {
     "data": {
      "text/plain": [
       "5.0"
      ]
     },
     "execution_count": 4,
     "metadata": {},
     "output_type": "execute_result"
    }
   ],
   "source": [
    "# Usando um dos métodos do pacote Numpy\n",
    "numpy.sqrt(25)"
   ]
  },
  {
   "cell_type": "code",
   "execution_count": 5,
   "metadata": {},
   "outputs": [],
   "source": [
    "# Importando apenas um dos métodos do pacote Numpy\n",
    "from numpy import sqrt"
   ]
  },
  {
   "cell_type": "code",
   "execution_count": 6,
   "metadata": {},
   "outputs": [
    {
     "data": {
      "text/plain": [
       "3.0"
      ]
     },
     "execution_count": 6,
     "metadata": {},
     "output_type": "execute_result"
    }
   ],
   "source": [
    "# Usando o método\n",
    "sqrt(9)"
   ]
  },
  {
   "cell_type": "code",
   "execution_count": 11,
   "metadata": {},
   "outputs": [
    {
     "data": {
      "text/plain": [
       "1.4142135623730951"
      ]
     },
     "execution_count": 11,
     "metadata": {},
     "output_type": "execute_result"
    }
   ],
   "source": [
    "sqrt(2)"
   ]
  },
  {
   "cell_type": "code",
   "execution_count": 7,
   "metadata": {},
   "outputs": [
    {
     "name": "stdout",
     "output_type": "stream",
     "text": [
      "['ALLOW_THREADS', 'AxisError', 'BUFSIZE', 'Bytes0', 'CLIP', 'ComplexWarning', 'DataSource', 'Datetime64', 'ERR_CALL', 'ERR_DEFAULT', 'ERR_IGNORE', 'ERR_LOG', 'ERR_PRINT', 'ERR_RAISE', 'ERR_WARN', 'FLOATING_POINT_SUPPORT', 'FPE_DIVIDEBYZERO', 'FPE_INVALID', 'FPE_OVERFLOW', 'FPE_UNDERFLOW', 'False_', 'Inf', 'Infinity', 'MAXDIMS', 'MAY_SHARE_BOUNDS', 'MAY_SHARE_EXACT', 'MachAr', 'ModuleDeprecationWarning', 'NAN', 'NINF', 'NZERO', 'NaN', 'PINF', 'PZERO', 'RAISE', 'RankWarning', 'SHIFT_DIVIDEBYZERO', 'SHIFT_INVALID', 'SHIFT_OVERFLOW', 'SHIFT_UNDERFLOW', 'ScalarType', 'Str0', 'Tester', 'TooHardError', 'True_', 'UFUNC_BUFSIZE_DEFAULT', 'UFUNC_PYVALS_NAME', 'Uint64', 'VisibleDeprecationWarning', 'WRAP', '_NoValue', '_UFUNC_API', '__NUMPY_SETUP__', '__all__', '__builtins__', '__cached__', '__config__', '__deprecated_attrs__', '__dir__', '__doc__', '__expired_functions__', '__file__', '__getattr__', '__git_version__', '__loader__', '__mkl_version__', '__name__', '__package__', '__path__', '__spec__', '__version__', '_add_newdoc_ufunc', '_distributor_init', '_financial_names', '_globals', '_mat', '_pytesttester', '_version', 'abs', 'absolute', 'add', 'add_docstring', 'add_newdoc', 'add_newdoc_ufunc', 'alen', 'all', 'allclose', 'alltrue', 'amax', 'amin', 'angle', 'any', 'append', 'apply_along_axis', 'apply_over_axes', 'arange', 'arccos', 'arccosh', 'arcsin', 'arcsinh', 'arctan', 'arctan2', 'arctanh', 'argmax', 'argmin', 'argpartition', 'argsort', 'argwhere', 'around', 'array', 'array2string', 'array_equal', 'array_equiv', 'array_repr', 'array_split', 'array_str', 'asanyarray', 'asarray', 'asarray_chkfinite', 'ascontiguousarray', 'asfarray', 'asfortranarray', 'asmatrix', 'asscalar', 'atleast_1d', 'atleast_2d', 'atleast_3d', 'average', 'bartlett', 'base_repr', 'binary_repr', 'bincount', 'bitwise_and', 'bitwise_not', 'bitwise_or', 'bitwise_xor', 'blackman', 'block', 'bmat', 'bool8', 'bool_', 'broadcast', 'broadcast_arrays', 'broadcast_shapes', 'broadcast_to', 'busday_count', 'busday_offset', 'busdaycalendar', 'byte', 'byte_bounds', 'bytes0', 'bytes_', 'c_', 'can_cast', 'cast', 'cbrt', 'cdouble', 'ceil', 'cfloat', 'char', 'character', 'chararray', 'choose', 'clip', 'clongdouble', 'clongfloat', 'column_stack', 'common_type', 'compare_chararrays', 'compat', 'complex128', 'complex64', 'complex_', 'complexfloating', 'compress', 'concatenate', 'conj', 'conjugate', 'convolve', 'copy', 'copysign', 'copyto', 'core', 'corrcoef', 'correlate', 'cos', 'cosh', 'count_nonzero', 'cov', 'cross', 'csingle', 'ctypeslib', 'cumprod', 'cumproduct', 'cumsum', 'datetime64', 'datetime_as_string', 'datetime_data', 'deg2rad', 'degrees', 'delete', 'deprecate', 'deprecate_with_doc', 'diag', 'diag_indices', 'diag_indices_from', 'diagflat', 'diagonal', 'diff', 'digitize', 'disp', 'divide', 'divmod', 'dot', 'double', 'dsplit', 'dstack', 'dtype', 'e', 'ediff1d', 'einsum', 'einsum_path', 'emath', 'empty', 'empty_like', 'equal', 'errstate', 'euler_gamma', 'exp', 'exp2', 'expand_dims', 'expm1', 'extract', 'eye', 'fabs', 'fastCopyAndTranspose', 'fft', 'fill_diagonal', 'find_common_type', 'finfo', 'fix', 'flatiter', 'flatnonzero', 'flexible', 'flip', 'fliplr', 'flipud', 'float16', 'float32', 'float64', 'float_', 'float_power', 'floating', 'floor', 'floor_divide', 'fmax', 'fmin', 'fmod', 'format_float_positional', 'format_float_scientific', 'format_parser', 'frexp', 'frombuffer', 'fromfile', 'fromfunction', 'fromiter', 'frompyfunc', 'fromregex', 'fromstring', 'full', 'full_like', 'gcd', 'generic', 'genfromtxt', 'geomspace', 'get_array_wrap', 'get_include', 'get_printoptions', 'getbufsize', 'geterr', 'geterrcall', 'geterrobj', 'gradient', 'greater', 'greater_equal', 'half', 'hamming', 'hanning', 'heaviside', 'histogram', 'histogram2d', 'histogram_bin_edges', 'histogramdd', 'hsplit', 'hstack', 'hypot', 'i0', 'identity', 'iinfo', 'imag', 'in1d', 'index_exp', 'indices', 'inexact', 'inf', 'info', 'infty', 'inner', 'insert', 'int0', 'int16', 'int32', 'int64', 'int8', 'int_', 'intc', 'integer', 'interp', 'intersect1d', 'intp', 'invert', 'is_busday', 'isclose', 'iscomplex', 'iscomplexobj', 'isfinite', 'isfortran', 'isin', 'isinf', 'isnan', 'isnat', 'isneginf', 'isposinf', 'isreal', 'isrealobj', 'isscalar', 'issctype', 'issubclass_', 'issubdtype', 'issubsctype', 'iterable', 'ix_', 'kaiser', 'kron', 'lcm', 'ldexp', 'left_shift', 'less', 'less_equal', 'lexsort', 'lib', 'linalg', 'linspace', 'little_endian', 'load', 'loads', 'loadtxt', 'log', 'log10', 'log1p', 'log2', 'logaddexp', 'logaddexp2', 'logical_and', 'logical_not', 'logical_or', 'logical_xor', 'logspace', 'longcomplex', 'longdouble', 'longfloat', 'longlong', 'lookfor', 'ma', 'mafromtxt', 'mask_indices', 'mat', 'math', 'matmul', 'matrix', 'matrixlib', 'max', 'maximum', 'maximum_sctype', 'may_share_memory', 'mean', 'median', 'memmap', 'meshgrid', 'mgrid', 'min', 'min_scalar_type', 'minimum', 'mintypecode', 'mkl', 'mod', 'modf', 'moveaxis', 'msort', 'multiply', 'nan', 'nan_to_num', 'nanargmax', 'nanargmin', 'nancumprod', 'nancumsum', 'nanmax', 'nanmean', 'nanmedian', 'nanmin', 'nanpercentile', 'nanprod', 'nanquantile', 'nanstd', 'nansum', 'nanvar', 'nbytes', 'ndarray', 'ndenumerate', 'ndfromtxt', 'ndim', 'ndindex', 'nditer', 'negative', 'nested_iters', 'newaxis', 'nextafter', 'nonzero', 'not_equal', 'numarray', 'number', 'obj2sctype', 'object0', 'object_', 'ogrid', 'oldnumeric', 'ones', 'ones_like', 'os', 'outer', 'packbits', 'pad', 'partition', 'percentile', 'pi', 'piecewise', 'place', 'poly', 'poly1d', 'polyadd', 'polyder', 'polydiv', 'polyfit', 'polyint', 'polymul', 'polynomial', 'polysub', 'polyval', 'positive', 'power', 'printoptions', 'prod', 'product', 'promote_types', 'ptp', 'put', 'put_along_axis', 'putmask', 'quantile', 'r_', 'rad2deg', 'radians', 'random', 'ravel', 'ravel_multi_index', 'real', 'real_if_close', 'rec', 'recarray', 'recfromcsv', 'recfromtxt', 'reciprocal', 'record', 'remainder', 'repeat', 'require', 'reshape', 'resize', 'result_type', 'right_shift', 'rint', 'roll', 'rollaxis', 'roots', 'rot90', 'round', 'round_', 'row_stack', 's_', 'safe_eval', 'save', 'savetxt', 'savez', 'savez_compressed', 'sctype2char', 'sctypeDict', 'sctypes', 'searchsorted', 'select', 'set_numeric_ops', 'set_printoptions', 'set_string_function', 'setbufsize', 'setdiff1d', 'seterr', 'seterrcall', 'seterrobj', 'setxor1d', 'shape', 'shares_memory', 'short', 'show_config', 'sign', 'signbit', 'signedinteger', 'sin', 'sinc', 'single', 'singlecomplex', 'sinh', 'size', 'sometrue', 'sort', 'sort_complex', 'source', 'spacing', 'split', 'sqrt', 'square', 'squeeze', 'stack', 'std', 'str0', 'str_', 'string_', 'subtract', 'sum', 'swapaxes', 'sys', 'take', 'take_along_axis', 'tan', 'tanh', 'tensordot', 'test', 'testing', 'tile', 'timedelta64', 'trace', 'tracemalloc_domain', 'transpose', 'trapz', 'tri', 'tril', 'tril_indices', 'tril_indices_from', 'trim_zeros', 'triu', 'triu_indices', 'triu_indices_from', 'true_divide', 'trunc', 'typecodes', 'typename', 'ubyte', 'ufunc', 'uint', 'uint0', 'uint16', 'uint32', 'uint64', 'uint8', 'uintc', 'uintp', 'ulonglong', 'unicode_', 'union1d', 'unique', 'unpackbits', 'unravel_index', 'unsignedinteger', 'unwrap', 'use_hugepage', 'ushort', 'vander', 'var', 'vdot', 'vectorize', 'version', 'void', 'void0', 'vsplit', 'vstack', 'warnings', 'where', 'who', 'zeros', 'zeros_like']\n"
     ]
    }
   ],
   "source": [
    "# Imprimindo todos os métodos do pacote numpy\n",
    "print(dir(numpy))"
   ]
  },
  {
   "cell_type": "code",
   "execution_count": 8,
   "metadata": {},
   "outputs": [
    {
     "name": "stdout",
     "output_type": "stream",
     "text": [
      "Help on ufunc:\n",
      "\n",
      "sqrt = <ufunc 'sqrt'>\n",
      "    sqrt(x, /, out=None, *, where=True, casting='same_kind', order='K', dtype=None, subok=True[, signature, extobj])\n",
      "    \n",
      "    Return the non-negative square-root of an array, element-wise.\n",
      "    \n",
      "    Parameters\n",
      "    ----------\n",
      "    x : array_like\n",
      "        The values whose square-roots are required.\n",
      "    out : ndarray, None, or tuple of ndarray and None, optional\n",
      "        A location into which the result is stored. If provided, it must have\n",
      "        a shape that the inputs broadcast to. If not provided or None,\n",
      "        a freshly-allocated array is returned. A tuple (possible only as a\n",
      "        keyword argument) must have length equal to the number of outputs.\n",
      "    where : array_like, optional\n",
      "        This condition is broadcast over the input. At locations where the\n",
      "        condition is True, the `out` array will be set to the ufunc result.\n",
      "        Elsewhere, the `out` array will retain its original value.\n",
      "        Note that if an uninitialized `out` array is created via the default\n",
      "        ``out=None``, locations within it where the condition is False will\n",
      "        remain uninitialized.\n",
      "    **kwargs\n",
      "        For other keyword-only arguments, see the\n",
      "        :ref:`ufunc docs <ufuncs.kwargs>`.\n",
      "    \n",
      "    Returns\n",
      "    -------\n",
      "    y : ndarray\n",
      "        An array of the same shape as `x`, containing the positive\n",
      "        square-root of each element in `x`.  If any element in `x` is\n",
      "        complex, a complex array is returned (and the square-roots of\n",
      "        negative reals are calculated).  If all of the elements in `x`\n",
      "        are real, so is `y`, with negative elements returning ``nan``.\n",
      "        If `out` was provided, `y` is a reference to it.\n",
      "        This is a scalar if `x` is a scalar.\n",
      "    \n",
      "    See Also\n",
      "    --------\n",
      "    lib.scimath.sqrt\n",
      "        A version which returns complex numbers when given negative reals.\n",
      "    \n",
      "    Notes\n",
      "    -----\n",
      "    *sqrt* has--consistent with common convention--as its branch cut the\n",
      "    real \"interval\" [`-inf`, 0), and is continuous from above on it.\n",
      "    A branch cut is a curve in the complex plane across which a given\n",
      "    complex function fails to be continuous.\n",
      "    \n",
      "    Examples\n",
      "    --------\n",
      "    >>> np.sqrt([1,4,9])\n",
      "    array([ 1.,  2.,  3.])\n",
      "    \n",
      "    >>> np.sqrt([4, -1, -3+4J])\n",
      "    array([ 2.+0.j,  0.+1.j,  1.+2.j])\n",
      "    \n",
      "    >>> np.sqrt([4, -1, np.inf])\n",
      "    array([ 2., nan, inf])\n",
      "\n"
     ]
    }
   ],
   "source": [
    "# Help do método sqrt do pacote Numpy\n",
    "help(sqrt)"
   ]
  },
  {
   "cell_type": "code",
   "execution_count": 12,
   "metadata": {},
   "outputs": [],
   "source": [
    "import random"
   ]
  },
  {
   "cell_type": "code",
   "execution_count": 28,
   "metadata": {},
   "outputs": [
    {
     "data": {
      "text/plain": [
       "'Banana'"
      ]
     },
     "execution_count": 28,
     "metadata": {},
     "output_type": "execute_result"
    }
   ],
   "source": [
    "random.choice(['Abacate', 'Banana', 'Laranja'])"
   ]
  },
  {
   "cell_type": "code",
   "execution_count": 34,
   "metadata": {},
   "outputs": [
    {
     "data": {
      "text/plain": [
       "[20, 62, 66, 19, 33, 71, 74, 44, 57, 29]"
      ]
     },
     "execution_count": 34,
     "metadata": {},
     "output_type": "execute_result"
    }
   ],
   "source": [
    "random.sample(range(100), 10)"
   ]
  },
  {
   "cell_type": "code",
   "execution_count": 35,
   "metadata": {},
   "outputs": [],
   "source": [
    "import statistics"
   ]
  },
  {
   "cell_type": "code",
   "execution_count": 36,
   "metadata": {},
   "outputs": [],
   "source": [
    "dados = [2.75, 1.75, 1.25, 0.25, 0.5, 1.25, 3.5]"
   ]
  },
  {
   "cell_type": "code",
   "execution_count": 37,
   "metadata": {},
   "outputs": [
    {
     "data": {
      "text/plain": [
       "1.6071428571428572"
      ]
     },
     "execution_count": 37,
     "metadata": {},
     "output_type": "execute_result"
    }
   ],
   "source": [
    "statistics.mean(dados)"
   ]
  },
  {
   "cell_type": "code",
   "execution_count": 38,
   "metadata": {},
   "outputs": [
    {
     "data": {
      "text/plain": [
       "1.25"
      ]
     },
     "execution_count": 38,
     "metadata": {},
     "output_type": "execute_result"
    }
   ],
   "source": [
    "statistics.median(dados)"
   ]
  },
  {
   "cell_type": "code",
   "execution_count": 39,
   "metadata": {},
   "outputs": [],
   "source": [
    "import os"
   ]
  },
  {
   "cell_type": "code",
   "execution_count": 40,
   "metadata": {},
   "outputs": [
    {
     "data": {
      "text/plain": [
       "'C:\\\\Users\\\\alrig\\\\OneDrive\\\\Projetos\\\\Programação\\\\Python\\\\PythonDSA\\\\Cap06'"
      ]
     },
     "execution_count": 40,
     "metadata": {},
     "output_type": "execute_result"
    }
   ],
   "source": [
    "os.getcwd()"
   ]
  },
  {
   "cell_type": "code",
   "execution_count": 41,
   "metadata": {},
   "outputs": [
    {
     "name": "stdout",
     "output_type": "stream",
     "text": [
      "['DirEntry', 'F_OK', 'GenericAlias', 'Mapping', 'MutableMapping', 'O_APPEND', 'O_BINARY', 'O_CREAT', 'O_EXCL', 'O_NOINHERIT', 'O_RANDOM', 'O_RDONLY', 'O_RDWR', 'O_SEQUENTIAL', 'O_SHORT_LIVED', 'O_TEMPORARY', 'O_TEXT', 'O_TRUNC', 'O_WRONLY', 'P_DETACH', 'P_NOWAIT', 'P_NOWAITO', 'P_OVERLAY', 'P_WAIT', 'PathLike', 'R_OK', 'SEEK_CUR', 'SEEK_END', 'SEEK_SET', 'TMP_MAX', 'W_OK', 'X_OK', '_AddedDllDirectory', '_Environ', '__all__', '__builtins__', '__cached__', '__doc__', '__file__', '__loader__', '__name__', '__package__', '__spec__', '_check_methods', '_execvpe', '_exists', '_exit', '_fspath', '_get_exports_list', '_walk', '_wrap_close', 'abc', 'abort', 'access', 'add_dll_directory', 'altsep', 'chdir', 'chmod', 'close', 'closerange', 'cpu_count', 'curdir', 'defpath', 'device_encoding', 'devnull', 'dup', 'dup2', 'environ', 'error', 'execl', 'execle', 'execlp', 'execlpe', 'execv', 'execve', 'execvp', 'execvpe', 'extsep', 'fdopen', 'fsdecode', 'fsencode', 'fspath', 'fstat', 'fsync', 'ftruncate', 'get_exec_path', 'get_handle_inheritable', 'get_inheritable', 'get_terminal_size', 'getcwd', 'getcwdb', 'getenv', 'getlogin', 'getpid', 'getppid', 'isatty', 'kill', 'linesep', 'link', 'listdir', 'lseek', 'lstat', 'makedirs', 'mkdir', 'name', 'open', 'pardir', 'path', 'pathsep', 'pipe', 'popen', 'putenv', 'read', 'readlink', 'remove', 'removedirs', 'rename', 'renames', 'replace', 'rmdir', 'scandir', 'sep', 'set_handle_inheritable', 'set_inheritable', 'spawnl', 'spawnle', 'spawnv', 'spawnve', 'st', 'startfile', 'stat', 'stat_result', 'statvfs_result', 'strerror', 'supports_bytes_environ', 'supports_dir_fd', 'supports_effective_ids', 'supports_fd', 'supports_follow_symlinks', 'symlink', 'sys', 'system', 'terminal_size', 'times', 'times_result', 'truncate', 'umask', 'uname_result', 'unlink', 'unsetenv', 'urandom', 'utime', 'waitpid', 'waitstatus_to_exitcode', 'walk', 'write']\n"
     ]
    }
   ],
   "source": [
    "print(dir(os))"
   ]
  },
  {
   "cell_type": "markdown",
   "metadata": {},
   "source": [
    "> Podemos trabalhar com módulos dos pacotes (quando disponíveis)."
   ]
  },
  {
   "cell_type": "code",
   "execution_count": 42,
   "metadata": {},
   "outputs": [],
   "source": [
    "# Importando o módulo request do pacote urllib, usado para trazer url's \n",
    "# para dentro do nosso ambiente Python\n",
    "import urllib.request"
   ]
  },
  {
   "cell_type": "markdown",
   "metadata": {},
   "source": [
    "http://python.org"
   ]
  },
  {
   "cell_type": "code",
   "execution_count": 44,
   "metadata": {},
   "outputs": [],
   "source": [
    "# Variável resposta armazena o objeto de conexão à url passada como \n",
    "# parâmetro\n",
    "resposta = urllib.request.urlopen('http://python.org')"
   ]
  },
  {
   "cell_type": "code",
   "execution_count": 49,
   "metadata": {},
   "outputs": [],
   "source": [
    "# Variável resposta armazena o objeto de conexão à url passada como \n",
    "# parâmetro\n",
    "resposta = urllib.request.urlopen('http://G1.com.br')"
   ]
  },
  {
   "cell_type": "code",
   "execution_count": 50,
   "metadata": {},
   "outputs": [
    {
     "name": "stdout",
     "output_type": "stream",
     "text": [
      "<http.client.HTTPResponse object at 0x0000018B52EF0790>\n"
     ]
    }
   ],
   "source": [
    "# Objeto resposta\n",
    "print(resposta)"
   ]
  },
  {
   "cell_type": "code",
   "execution_count": 51,
   "metadata": {},
   "outputs": [],
   "source": [
    "# Chamando o método read() do objeto resposta e armazenando o código \n",
    "# html na variável html\n",
    "html = resposta.read()"
   ]
  },
  {
   "cell_type": "code",
   "execution_count": 47,
   "metadata": {},
   "outputs": [
    {
     "name": "stdout",
     "output_type": "stream",
     "text": [
      "b'\\x1f\\x8b\\x08\\x00\\x00\\x00\\x00\\x00\\x00\\x03\\xed}\\xebv\\xdbF\\xb2\\xee\\x7f\\xaf5\\xef\\xd0\\xa6\\xd7\\xb6\\xe4\\x89A\\x8a\\xd4\\xd5\\xb2\\xc4\\x8c/\\xb2\\xad\\xc4\\x17%\\x92\\xe3\\xbdw\\xb6\\x97\\x17\\x08\\x80$$\\x12\\xa0q\\x91\\xc4\\xcc\\xcc\\x03\\xec?\\xe7\\x15\\xce\\x8b\\x9c\\x7f\\xe7\\x85\\xce#\\x9c\\xaf\\xaa\\xbb\\x81\\x06\\x08\\xf0\"+\\x9edmO&\\x11q\\xeb\\xae\\xae\\xee\\xbavU\\xf5\\xc1]7t\\x92\\xe9\\xc4\\x13\\xc3d<\\xea\\xde9\\xb8kY\\xbf\\xfa}1J\\xc4\\xf1\\x91\\xd8\\xfd\\xd8\\x15B\\x1c\\xd0#\\xe1\\x8c\\xec8>l\\x04\\xa1u\\x1e\\x0b\\xdf\\xdb\\xc1+\\x96\\xef\\xed\\xca?{\\xf2\\xcf\\xa3\\x06\\xbf\\x7f\\xf7W/p\\xfd\\xfeG\\xcb\\xca\\x1b\\xccZ\\xabk\\xb0\\xaa%\\xbcK\\xff\\xabkp\\x8f\\xc1\\xa3\\x17\\xaa ,\\xc0$\\xdf\\xd3\\xff\\xadlp\\xc0CF\\x9b\\x84\\x83\\xeel\\x93\\r1\\xb2\\x83\\xc1a\\xc3\\x0b\\x1a\\xc2\\xf5\\xa3\\xc3\\xc6(\\x89h\\xbc\\xf4z\\xa1\\xc1;\\x07C\\xcfv\\xbbw$\\xe8\\x96%^\\x86\\xe1`\\xe4\\x89\\xc4\\x1e\\x88\\xf5\\x01\\xfe\\xdb<\\x8f\\x1f\\x08B\\x0e\\xbf\\x11;\\x91?I\\x84\\x1dO\\x03G\\xc4\\x91s\\xd8\\x18&\\xc9$\\xdeo\\xb5\\xae\\xae\\xae\\x9a\\x03\\xfe\\x16\\x1f\\x8d\\xed\\xc0\\x1exQ\\xd3\\t\\xc7-j\\xa4u\\x1e\\x7f\\xef\\xbb\\x87/\\xad\\xb3\\x17\\x9b\\xdb\\xff\\xf1\\xe2\\xd1\\xb3_^5\\xba\\x07-\\xd9Z\\xa1iy!\\xc4\\x95\\x1f\\xb8\\xe1U\\xd3\\xb5\\x13\\xfb\\xb5=\\xf5\"q8{\\xeb\\x1f\\xff\\x10\\xbf~|\\xcc\\x80\\t\\xd1O\\x03\\'\\xf1\\xc3@P\\x7f\\xeb\\x0f\\xfe\\x9e}\\xd9\\x9c\\xa4\\xf1p\\xdd\\x8e\\x06\\xe9\\xd8\\x0b\\x92\\xf8\\xc1\\xe3\\x7f\\xaa/\\xf8\\xc5\\xb5\\xf3x\\xed\\xa1\\x08\\xbc+\\xf1\\xdcN\\xbc\\xf5\\x07\\x0ft{\\xf2\\xa9\\x13\\x06}\\x7f\\x807\\xd6L\\xd8\\xd7\\xd4[\\xa5\\x11\\x00\\xb7\\xe2dd\\xa7\\xb1\\xdf\\x1byM?\\x14\\xc0\\xc2h\\x9a\\xf8N<\\x83@\\xd7\\xebcL\\x04\\xa3\\xe5\\x86c\\xdb\\x0f\\x0e\\x1b\\x93i2\\x0c\\x83f\\x18\\r\\x1aE\\xccN\\x8c&\\x81H\\x855\\xcc\\x8b\\x89B9=c _8C;\\x8a\\xbd\\xe4\\xb0\\x91&}k\\xaf\\xa1\\xd0\\xcb\\x8fh\\xb2,\\xefs\\xea_\\x1e6\\xfe\\xddz\\xff\\xc4z\\x16\\x8e\\'vB\\xf06\\x04\\xc6\\x9a\\x00C\\x87\\x8d\\xe3\\xa3C\\xcf\\x1dx\\xf8R\\xb6:\\xf2\\x83\\x0b\\x11y#\\xc0\\x18\\x01\\xee\\xc4\\x196\\xc4\\x10\\xbf\\x0e\\x1b\\xad\\x96}n_\\xaby\\xb7\\'~\\xcc3N\\xf7Z#\\xbf\\x17\\xb7\\xce?\\xa7^4m\\xb5\\x9b{\\xcd\\x8e\\xbah\\x8e\\xfd\\x80a\\xbf\\x9d\\xb6S\\x1f\\xad\\xb7;\\xcd\\xb6j\\xdeJ\\xfd\\xbc\\x07\\x03)\\x81=\\xf6\\x0e\\x1b\\xf6d2\\xf2\\x1d\\x0c8\\x0c,\\xbac\\x0c\\xfa$G\\xbf\\x891\\xf9\\xdd86\\xbfL\\xc2p\\x94\\xf8\\x13\\xe3\\xe3\\xb3\\xa1\\'\\xc2~\\xdfw|{$\\x86\\xe1\\x98\\xaeD\\x82\\x9b\\xb2Uq\\x12\\x85\\x83\\xc8\\x1ec\\xe8\\x03\\xf1\\x1a\\x84\\x99\\x82:\\n\\x13\\x93\\x83\\xe7Y\\xe3\\xb0\\xe7\\x8f<\\xeb\\xca\\xebY\\xe8\\xd5J\\xfc\\xa40;s\\x01%0gZp\\xec\\x89]\\x9c\\xe1\\xa9\\x97M\\x00\\xaf\\x8b9\\xdd\\xc7\\x89\\x9d\\xa4\\xb1\\xd5\\xb3#+N\\xa6\\x05Hz#\\xdb\\xb9\\xc8V\\x89\\xd1\\xd0\\xa5\\xef]M\\xc2(10t\\xe5\\xbb\\xc9\\xf0\\xd0\\xf5.}\\x07C\\xa3\\x8b\\x87\\xc2\\x0f\\xfc\\x04\\x08\\xb3b\\xc7\\x1ey\\x87\\xed\\xe6F\\x05J^\\xd9\\x81;\\xf4F\\xee\\x8b\\xc8\\x07\\x9f\\x1eMM\\xa4Gi\\x15\\x12\\xfba4\\xb6\\x13\\xcb\\xf5\\x12\\x8f\\x19\\x82\\xf1E\\xe2\\x8d\\xbc\\t\\x88\\xcc;\\x0c\\xc2Z\\xbapF\\x9e\\x1d\\x91\\x941>D+ud\\xe4\\x8f1\\x97\\xb4\"\\x80!\\xe3\\x8b\\xbe=\\x8as\\n2\\xd9\\xa6\\xe2>\\x92k\\x15X\\xe8\\xd8s}\\xbb\\xe9%C,\\xd1\\x91\\xed\\xc6`!-\\xbe\\xd7rF\\x18}\\xd2\\xbal7\\xb7\\x9a\\x1b-\\xe3\\rEL\\x856}\\x90\\xf1 \\xf2\\x93\\xe9a#\\x1e\\xda\\x9d\\xed\\x1d\\xeb\\xfd\\xe6\\xf0\\xc7\\xe7\\xbe\\x9b\\xba\\xc7\\xf6\\xf5\\xd3\\xe7G\\xbf]\\xbd\\xfc\\xe1\\xc9\\xe4\\x87\\xc1\\xc9Q\\xbf3\\xfep\\xb1\\xe3\\xf4\\xdf|\\x18\\x0c\\xa3\\'\\xf6\\x8e\\xbfq(\\xf0\\xcd\\xe6\\xde\\x96\\xf5\\xde\\x19\\xc7\\xcf>;o\\x7f>}\\xfd\\xa1\\xe5\\xfe\\xb2\\xf9:l\\x87\\xcf\\xfcN\\xeb\\x17;\\x8d\\xfe\\xbd\\xe7\\xf7v&[\\xaf\\xa6\\xef\\x8f\\xdey\\xc7vk\\xeb\\xdd$\\x8e\\x82\\xd4\\x89\\xd2\\xc1\\x13\\xaf\\xff\\xdb/\\xff\\xf9C\\xff\\x98\\xda\\xd9nw\\xac\\xcf[I\\xfb\\xf5\\xd6\\xf5\\xd1\\xf9\\xcb_:?o\\r\\x7f\\xfb\\xfc\\xcc\\xdej\\x9f\\xec\\x9dG\\x83\\x17\\xefO\\xf7\\xae\\xcfz{\\x91\\xfb\\xf6r\\xeb\\xc5\\xcb\\xcb\\xab\\xdd\\x17\\x93\\xa9\\xfb\\xcby\\xeb\\xe2\\xe2\\xfa\\xe9\\x0f\\xaf\\xde\\xf9vx\\xfd\\xca\\xde\\x0bG\\xcf\\x9c\\xeb\\xf6\\xe9\\xe8\\xe2\\xd1\\x8f\\xdfm\\xc6o{\\xf1\\x9b\\xadtpx\\xd8(\\x8c\\xd9\\x89\\xc28\\x0e#\\x7f@\\x9c\\xd4\\x0e\\xc2`:\\x0e\\xd3X\\xbeS-h$\\x8fm\\xd1\\xf2\\xf6\\x1db\\xab\\xcc\\xb0\\xc6\\xa1\\xebE\\x81\\xff[T\\xc9^\\x99\\x11*\\xce\\xa7>d\\x9a\\x88\\x87\\x9e\\x97\\x801\\xd3\\xef\\xe6\\xc6\\x9e\\xbd\\xb1\\xbb\\xe7n\\xd8\\xf6F\\xa7\\xe9\\xc4qC\\xb2\\xce\\xfc\\xc5\\x86\\xa0\\xd5u\\xd8H\\xbc\\xeb\\xa4\\xc5/\\xf0$\\x03\\xee\\xd1\\x08\\xcf\\x88\\xdc\\x0f\\x1b\\x10\\x10v:\\x02\\x05\\xb5LFY\\xdf\\xf7\\xf8ss\\xb3\\xed\\xb9^\\xc7\\xee;[\\x9d\\xdd\\xd5:\\x0e\\xc2DL\"\\xac\\x9b\\x87\\xa2\\x17\\xd9\\xfeh\\xe4=\\x14\\xde\\xb8\\x07\\x94z\\xeeC\\x11O<\\xcf\\x01\\xb9&\\t\\xa8oIp\\xa0y\\x01\\xa2^\\x7f\\x03\\xc0l;nows5\\x88@0\\x1e\\xe9.\\xaa;%\\x88\\x94\\xbe\\xb7>J<V\\x7f\\x1e\\xdc_\\xbf{|\\xf4\\x86\\xf9\\xe5\\x83\\x8f\\xcb!\\xea\\xb6!#:\\x96r\\xc6\\xd4$\\xe9\\xeeA.7\\xcd\\xc9_Er\\xe6\\xd2\\r\\xc2d\\xeca\\x89\\x8d\\xc30\\x19\\x06^\\xace+\\xc9;ZCJV\\x97\\x85\\xaa\\x0f\\xa1\\xae\\xd7\\x1bs\\xaa\\xd6\\xb5%\\xef\\x15\\x97R\\xdf\\x06c\\x86\\xf6\\x81\\xff\\xccJf)T\\x920u\\x86\\xfc\\xb1\\x055\\x00r~\\x12by@W\\xf1\\x7f\\xf3\\xa0k\\xb7\\xb7\\xb6\\xae\\xf1o\\xa6\\x19(\\xfa\\x98\\xf9V\\xbdg\\xb6\\xd1\\x9c\\x04\\x83\\x9b\\xf6\\xdaF\\xaf\\xed%z\\x95\\xef\\xddR\\xaf\\xbb\\x9d\\xeb\\xdd\\xce\\xc2\\x91\\xf2[_\\xdacq\\x9af\\xb0i\\xcc\\xc4rX\\\\\\x08\\xf5l\\x8b\\xbc\\xa6fT\\xa9\\xa2Jt\\x06\\n<\\xa6\\xf5e\\x88@\\xcd[\\xa1\\x18D\\xa1\\\\8j\\xf2%\\xa8d\\x8b\\x88\\xab\\xa1\\x0fb\\x86\\xac\\x80U\\x97Y\\x19\\x86*1\\xdb\\xcd\\xb3p\\x14\\x9a\\x92\\xf6\\xde\\xe6\\xce\\xee\\xa6\\xbd\\re\\x98\\xda\\x93Z\\xb4\\xe8\\x8d\\xd2e\\xda\\x0b\\xec\\xcb^\\x9a$X\\xd2N]\\xab\\x8a\\xf50[\\xee~\\xf0FX\\xf8\\xb0\\x8eB\\xa5\\xd9\\x91\\xba~\\xd0\\x92\\x0f\\xd5\\x9b\\x06\\xf0\\xae\\'\\x05\\x7fQ\\x0b\\xb9%e\\xf1\\xc2\\x9b^\\x85\\x91\\x0b\\xf1\\x91)\\xeeJ\\xdb\\x9c\\x18\\xda&\\x99\\x81\\xa4m\\x8a\\xb0w\\x0e}H@FB\\x93\\xf0\\\\\\x01\\xf5R\\xf4\\xc1dE8\\xf1\\x02\\x11\\x87i\\xe4`\\x1e\\xc2~reG\\x9e\\x80\\x96\\xec\\x05\\xb1\\'`p\\xb3\\xd9\\xc4*3\\xae\\xae\\x82Qh\\xbb\\xe8q<N\\xa1\\xbdM\\x8b|\\x87\\x87\\x8e\\xde\\'\\x1e\\x14\\xa8\\xc3F8\\xd8/\\xe9Q\\xe84\\xc6|\\x17\\x94\\xa9\\xc2\\xfb\\xf4\\xf4\\xd3r\\x9ay\\xb1\\x9f\\x92\\x92\\\\9Q\\xf5\\xdd\\xde\\xfaD\\x19\\xe4R\\x80\\x93y\\xb01c\\xa6\\xf5\\x9c\\x1b\\x80\\x9arhj`7L\\x14\\xdb\\xedll\\\\\\xe3_\\x93\\xd0g1\\xce=\\xec\\xc7\\x9e\\x93F\\xde\\xa74\\x82F\\x91-\\x8f/\\xec\\xacnLKu\\xa2\\x17\\x8a!\\x14\\xed\\x14\\x06/(Y\\xb1\\xb8a\\n\\xafA\\xdcL\\xae\\x93\\xaaw!\\xf2\\xa3\\x00\\x16\\xba\\x16f\\x86=\\xd6\\x8a\\xe2\\xf8\\xbb\\xebq\\xae;)28\\n\\x86v\\xe0@l\\x06\\t\\x19`\\x10W\\xd0\\xc9M\\xb5Qv\\xac\\xb12\\xf1&q\\xd3\\x98\\x03\\xbeF\\xd3\\x15\\x92\\xe9\\x06\\xc0\\xfc\\x10\\xf6\\xc4\\xbb\\t\\x19ED7>\\xec/C\\x7f-\\x02B\\x9e\\x14\\x03\\x8e\\xf3\\x10zi\\xdf\\xf3\\\\\\x1ag\\xebv\\xa09\\xd5t\\xfe\"L\\x03x!\\x88\\xb8\\xdfzWs\\x80\"\\x00\\xe2&\\xfd\\xb7\\x97F\\x81r\\xedHD\\xeb\\xc6\\xf2\\xb6\\xb8\\xa9\\x19\\x03\\xdf\\xbe\\x01\\xda\\x8e\\x83\\xd8\\x87F^\\x8f\\xac9p\\xe9o\\x19\\x10s\\xdd\\xdd\\x00\\x8e\\x9fa9\\xdaqa\\xd6\\xe6N\\x9a\\xe6\\x94r\\xe6\\xd42\\x92\\x82\\xd4\\x10\\xa7\\xca,\\x94\\xe6\\x80\\xb9\\xa2G\\xeew\\xe7qft\\x8a\\xbf\\xeb\\xb5\\xd2\\xf8\\x1b\\x133Hd_d\\x9e\\xb7\\xd8\\x81nh\\xb3\\xe3\\xe8a\\xfe\"s^\\xbc\\xf5\\xc1\\xeb\\x9d\\x12\\xcb\\xcd\\x1f\\x11\\xbd\\x1a\\x9f\\x97\\x96\\x9b\\xf1\\xe2$$\\x7f\\x10,\\xf4\\'\\xd2\\x90\\xde\\xcf\\x01\\x11\\xa2\\xf17\\xdd\\xc3)\\xeceg\\xa8\\xde\\xc9\\xba\\xc1\\x1b\\t\\x9cn^\\x01\\xd4R_1\\x7f\\xd9\\xfa\\xfe\\xf3\\xe1\\xdf\\xe5\\xcfO\\xa0\\xf2\\xf1\\xa78\\x81-2\\xf8g\\x0e\\t\\xdabG\\x92\\xe5\\x07\\x93\\x94\\x1b\\x8c\\xc8\\x89\\x15A\\x8c\\xb1\\xe7b\\xf6\\xe3l\\xc1(g\\x9f\\xfc\\x93\\xfb\\xeb\\xea&\\x81m\\xb2s\\xfb\\xd2\\x96S\\xa3\\x16\\xf1\\xa5\\x1d\\x89O\\x03\\xfb3\\x9c\\x90\\xfc\\xc7p<\\xd2\\xb5\\xf40\\xfe\\xba\\xf6\\t^\\xb7\\'\\x8e\\x03\\x92J\\xc8c\\x08\\xf7\\xda\\xe6\\xa3\\x8d\\xed\\xedG\\xbb\\x9bV{\\xed\\xa3\\xf2\\x19\\x16>H\"xPN\\xc0\\xb0\\xc9c\\xc2\\xaf0`\\xeb\\xda\\x99\\xb9\\xfe\\xc0@9A1\\xb0\\x01\\x83\\x16\\xcaM\\x18I`\\x89G#\\xe6q\\xebk\\x12f8\\'\\xf1Z\\x93\\xfd\\xe4\\x87b\\xad4\\xa25~(\\xfd\\xb7\\x87\"\\x81\\x0bE;<\\x05=\\x80?\\x02\\x1f\\xad\\xafI\\xa6\\xb8&\\x0e\\x8d\\xdeF\\xa1\\xf4\\x9c5!\\xd1\\x92\\x10\\n\\x93\\xf8^\\xa8\\x17[\\xad8\\x1e\\xad\\x89}y-\\xbd\\xc1k\\x0f\\xc4wbM\\xf9\\x06\\xad\\xcc\\x15*}\\xc26\\xec\\xeb\\xb5\\xbcg\\x1aZl\\x8e\\x0c\\xebF\\r+~:=\\xb3\\x07o1\\xcd\\xf9\\x00\\x7f\\xdd\\xf8\\xf8X\\x80YCS\\t\\x92\\xb70\\xd9\\x9b>\\x94\\x95(y\\xea\\xc1\\xf9\\xe3\\xad\\x0fl\\x18\\xad\\n\\xdd\\xff|\\xb0^\\xe9\\xac\\xbds\\xd0\\x92\\x8e\\xef;\\x07\\xbd\\xd0\\x9d\\xea\\x1d\\x03\\xa5>\\x92\\x0b\\xaf!\\xe0\\xb1n\\xd0\\xaf\\x89\\xf4\\xd6\\xf1\\xd4\\x1c\\xb8\\xfe%?`s\\x08\\xfa\\xa3u\\x05\\x01\\r\\x85G\\x0b\\xad\\xc2KA\\x08O\\xa7n\\xdb\\r-\\x18\\xda0\\x08`h\\xab\\x85E/\\xf3\\x07\\x93\\xee\\x01V}\\x18\\x0c\\xbaoC\\xf8#\\xbc},Uy->\\x0c\\xa1[\\x8b\\x1f\\xb0&O\\xa5\\xf3\\xdd\\x8f\\x05\\x19\\xec\\xb0\\x01%u\\n\\x0c\\x1a\\xceF\\xdcV\\xea\\xd5C1\\x85:\\x07\\xf7\\x1a\\xa8\\xc9\\x96N\\xf1+?\\x19\\xb2CR)\\x03p\\xa6\\x8fF\\xa2G\\x8a\\xde\\x18\\xdc\\xc1m\\xc2qM\\x0cN$\\xe0\\xeefg\\x10\\x0c\\xb2y\\x0f\\x1ev|\\xe2]c\\xacP!\\x1d\\xaf)\\x0eZ\\x13\\xc9\\xe4y\\x08-`FY\\xa1|\\xad\\x8cum\\xab+\\xf3\\x9c\\x1fi\\x1c\\x86#\\xd7\\x877\\xd0\\x86\\xc7\\x05\\x16\\xe0rx\\xd2\\x1c\\x8e\\x1a\\xe2\\xff\\xd5\"\\xee?\\x08\\t\\xbd(\\xbc\\xc2\\xd2\\x10\\xc0\\xce\\x817\\xeeB! \\xfd\\xf7\\xa0\\x85\\xdfz\\xcc\\xb3-\\xc2Q\\xce\\xeem\\xa2\\x02,f\\xd9\\x06L\\x94\\xc9\\x94Wo\\xa3\\x9bN\\xa0\\x96\\xb9l\\x07\\xd8\\xd8_\\xe9\\xc3\\x99OZ\\x86\\xea\\xec\\xa0ew\\xe9Q\\x8e+\\xbc\\xd5\\xf3\\x12L\\x07MQ\\xb3\\xd0a\\x15\\x12\\xb3\\xa1\\x99.\\x85\\xec+\\xb6sN\\xfd\\x98\\x9a#\\xd6.^\\xc3-\\x95o10N\\xf2UJnj\\xb9\\x1b\\x96\\x84\\x13r\\xe3\\x82}\\x14\\xd6a\\x11\\x1a\\xach\\xfd>\\xe9\\x96\\xf0\\x92_\\xfa\\x03\\xa9 \\xd0\\xd2\\xc1N\\x05\\x96\\xba\\x88B\\xf2Q\\xe5\\xcf\\xcc\\xc5\\xaf\\x81\\x9fE+\\x01\\xa5`\\x89/\\xfc\\x89\\xc5\\xfe\\x11\\xe9\\xe9\\xb1\\xc0\\xc9 \\xe7-\\x96m\\xf9\\xa2\\xd2m\\xf1\\x98\\xf4\\xac\\xdcSk8\\xf3\\x95\\x9d\\xa21\\xc2\\xb7\\xbe\\xdf-\\xdd\\xa0\\xf9\\x98\\x85\\xa6\\xb4^\\xeb\\xc1\\xb6\\x99\\xde\\x9d\\x11\\xdc\\x1d\\x96\\xe4\\x0fV\\xe0%\\xb0\\xbd.2\\xd4\\x9e\\xa7c9\\x1c\\xad\\xcd\\xde+\\xbfhG\\xbem\\r}\\xd7\\xf5\\xe0\\xa0$\\xb6[7\\xcaxb\\x07b\\xf6m\\x8d8\\xf6\\xbf\\xd8\\x11V56\\x8e\\xae\\xe0\\x96>\\xa0\\x0f\\xba\\xf7\\xef=\\xda\\xd9\\xd9x\\x0c\\xaeAW\\xea\\x8fxF0W\\x8c\\x1c\\xe8\\x98\\xb9{\\xe7\\xceA\\x9am\\x9cB\\x9e\\xa4z\\x96\\x13\\x18\\x89\\nX\\xfe\\x08\\x9aT\\x91[Zl\\x84\\xc0\\xde \\x1a\\xf8\\x84\\x059\\x161\\xd4%\\x07lE\\xdf\\x84W1p\\x86\\xd9mc\\xec\\xd9\\xac\\xb6\\xb2\\xe9$\\xfbX\\xa9\\xf0\\x95\\xfb&\\xba\\xf7\\xd5z\\x94-fK\\xe1\\x00\\xfe^\\xb9(f\\x06\\x15\\xf7\\xe5\\x88\\xaa\\xa0\\xac1\\xa1&q\\xbf\\x12\\xfe\\n=\\xbb!\\xba\\'\\xa7/\\x96\\x80\\x03R>^\\x0c\\x08\\xbdeX\\x0b\\x19\\x12\\x15\\x02\\x9f\\x9b\\xf6;\\xba\\xc6u\\xbcD\\xdf\\x93\\xe9\\xc4_\\xdc7\\xbdEjg>t=m\\xd0j\\xc8\\xe7p\\x1c\\xb8\\xde5\\rxzr\\xbcD\\xafd\\xe9\\xd4\\xf7\\xdabC\\xa8<@\\xb2\\xab\\x9e\\x86v\\x04Gd\\x17\\xbf\\x97\\x19\\\\<\\x04#\\xe45[5\\xc3\\xad\\xcc\\xb7\\x81\\xbeD\\xf7\\x99\\xf6tT\\xc1\\x7f\\xd0J\\x11\\x860KKX\\xd4\\xc42\\xca<@\\xf1\\xbeYf\\x01\\xce\\xdc\\xa8\\xa0\\xf9Y\\xa6\\xc5\\xf4\\xb7<\\x87H\\'&\\x7f\\xd8\\x9e\\xe1\\x0f\\x06\\xa5\\xbd\\x95\\x1cm\\x86-\\xf0\\xb0\\x8b\"\\xa2\\x05\\xbeo\\n\\xfa\\n\\xc1/^1;\\x17`\\x03\\xbc\\xe9\\x9e\\xb9\\xf6x\\x00\\xa4x\\xe1\\xa1B\\x07\\xed~[\\xf2\\x96f9=; 1S\\x1c?\\xcb4\\xf5M.\\x8a*8\\xd9\\xc1\\xb0\\x9d\\x89\\x19p#n\\x1b\\xa2\\xa6\\x96\\xe3j\\xb9\\x02\\xb9~\\xe0\\x8f\\x07%\\xe66\\n\\x07\\xa1\\xda\\x90\\xd7n\\x19\\xbc\\xd4RsKO\\xd9\\x1f#`\\xdd\\xea\\x19\\xbf\\x0f\\xb5\\xde\\xf5\\x1e\\xd3\\xf6|\\xa5\\xe0\\x19\\xb6\\xab\\xa06\\x86\\x17N\\xc8\"\\x97\\x9b\\xae\\xd9P\\xcbr[\\x0b,\\xf3o\\xc6M3\\xa7F\\xdc\\x1fc\\'\\x07\\xf6:\\xd1\\xa9\\xe3\\xc3\\xcb\\x1f\\x8d\\xb1\\xc4\\x03\\x98X\\xf0|z-\\x80\\x1a\\xc4P\\x12\\xbf\\x8f<\\x8a\\x19h\\xdf\\xc7\\xc2\\x85k[\\xe1\\xd9\\r\\xc9\\xe7bI\\x1fi\\x03\\xdc\\x83.+G\\xc5\\x13[=\\x84\\x1aIG_\\xcc,7=\\x18EA\\xe4\\x0e\\xb4\\xc6\\xb6\\x96\\xad&\\x01%\\xd8ab)%U\\xb5{\\xfaU\\xb5\\xe2\\xb3\\xd5\\x85w\\xe4\\x8eG\\xf7>\\x07>h\\x19)\\xde\\xe0\\t\\r\\xe5\\x806\\x8c\\xb3\\x05\\xc3\\x16\\xa9\\x05M\\xd9bG\\xa5\\x90\\xfa3\"\\x1d\\x94\\xadJ\\x9bup[\\x81\\xba\\xc9\\xb4\\xad\\xa6\\xd0l\\x10}\\x1f;\\xd7@\\xab\\xde\\xd4\\x93\\x96\\xb2\\xe1:F\\x03\\xb5(\\xc8ZY\\x86\\xde%t\\x1c\\x10B\\n\\xc0\\x12\\xad\\x8e\\xec\\x9e\\x97\\xc9\\xfb\\n%\\x8c\\xd4\\xfe\\xc3\\x86\\xefZ\\xb2i\\x8b\\xc7\\xd2\\xe8\\xaa!\\x9c\\x91\\xb9A\\xca\\'\\xe4(54\\x1f\\x11\\xbc8\\xd8vg\\xbeXnT\\x85\\x1f|\\xd6\\xbe=5\\x18\\xa5e\\x92J\\xd8\\x0b!F\\xb4\\xea(\\xa7H\\xc2#\\x10\\x1c\\xe3xC\\x18\\x12\\x1e\\xa0\\x95\\xc05\\xc4\\xa5\\r\\xf7\\xffa\\x03\\xed\\xd9=\\xc4\\x11y\\xd7\\xd8\\x9eZ\\n\\xd5r\\xa1\\xab\\xfd\\xd98\\xed\\xc16j(\\xe8\\xf4\\x15\\r@\\xff.B\\xa4\\xa8$\\x9bl\\xfe\\\\\\x1af\\x1a\\xb0\\x1c\\x9e\\xcd\\x05kG\\xcf\\xfe\\xcbw\\x8b\\x17HK\\xf6\\xbc\\xc4\\xac/nKYm\\xc7G\\x08-\\x933\\x96oV\\x83\\r\\xd2\\x0e76\\xa7\\xfd\\x18x\\x9f\\xee\\xc3\\x0e\\r\\xc0\\xe7`\\x01\\xc5\\x14`\\x02\\xcc\\xe8_r[\\x90\\xd0n\\xcc\\xc1\\x16\\xed\\xd1\\x18\\xe1vs\\xa19hi\\xea\\xa9_[x\\x07\\xb4+U`\\xbd<z\\xb0$.Hxh]\\xd8`J\\xb6{\\x9e\\xc6\\x89\\xd5\\x07\\xfb\\x03y\\xffF\\xe4\\xbd\\xa4Z\\x9e\\x11c\\xae#\\x1b\\x96\\x91dD\\xdc\\x16S\\xc3a\\xe3\\t\\xf7$\\xce\\xb0vA&\\xbfa\\x97%\\x10\\xe4\\xe7Yb\\xd6\\r\\xfd\\x1a~\\xe2\\xc8j#\\x94/\\xc62\\x94\\xa0\\xda\\xf1$\\x9c\\xa4\\x93\\xb96\\x84\\x06\\xd6`\\xa6\\x8aIfD$\\xd9\\x9a\\x05)0@\\x9c\\x1e\\xf1L\\xe9m8\\x88\\xc7\\x88B\\xe8>\\x01\\xf2\\xf8\\x87\\xa0_\\xeaQ\\x950+w\\xc5\\x94\\x9e\\xe3\\x08\\x84B\\x06%\\xe3\\xa7~\\x1a\\xcb\\x8d\\x941\\xd0\\xd1z\\x84\\x85\\xe5$MO2J\\xc8\\xd2\\x00\\xe40=\\x94}\\x0bd[\\xf1\\x10\\xee\\x15\\x18f*\\x8c\\xe2\\r\\xd6\\x82\\x9a\\x05\\x1a\\x0f\\xd9\\xae\\x12\\x15\\xb9\\x8fo\\x1f\\x82\\xfaT>dq\\x90\\x19\\x06e\\xb0\\xaa\\xae\\xebA\\x85\\x10]\\x00\\xea\\x00F\\\\\\x05\\xa0\\xaf\\xc9kZ\\x03\\xa7|v\\x9b`n.\\x04\\x93\\x15\\x83\\x0c\\xce\\x9f\\xe9\\n\\x81\\x8dS\\xc8\\x07x<\\x88\\x8a(\\xe00\\x18x\\xb18\\x16C\\xfb\\xd2\\x13c(?\\xd5h\\xe6\\x8fW\\x83^\\xaa\\xd8U\\xa87\\xef-\\x9e\\xb4\\xf9\\xedH\\xe7\\x95\\xa9\\xbf \\xfe\\xf4\\x82\\xfe\\xb5\\x82\\x14\\xa1\\x90\\xfc\\x9f\\x05+\\xd8X\\xf6sY\\xc3i\\xc8Q\\x82o(\\xe6G\\xbc\\xcd\\xdc+\\x0bZg\\xc2\\xca-\\xef\\xaf\\xc7\\x19$\\xb8\\x98\\xe6Z\\xb5\\xaf<9_\\x9d\\xfegwb\\xc8\\xb3\\x04\\xfc\\x06\\xec\\xae\\xc3\\xbf\\xd0\\x89\\xa6Ze\\xd7{\\xdc\\x10\\x03z\\xef\\x8b5\\xff\\nY\\xa09K\\xdf\\x16}\\xb0v\\xd5\\xa8\\x15\\x7fN\\xe1y&\\t\\xe3w\\xc9\\xf7\\xe6\\xb9\\xc7\\xc1j\\xab\\xbaj6s.W\\xcd:\\x8a\\xa3\\xec#8+\\t\\xa1\\x9f\\xb3b\\xff7Xr\\xf0*h\\xddwV\\xaa\\xe9\\x91\\xb0\\xfbh\\x0cyB\\x9ff2\\xf2\\x8d\\xbaq\\x9b\\x83\\xa8f,r\\x10\\x86\\x8d\\xedG\\x0ea\\x7f\\x19\\x1d\\x97\\xa2\\x15\\x028\\xfb3\\xb0\\x9f\\rm\\x044\\x04\\xe2\\xf8\\xe7g\\xb7\\t9\\xa2\\x89*8w\\x11\\xfd\\t\\x1c\\xea\\xf0\\xbf\\xf2\\xfaZ\\t\\xf7\\xea\\xc3l\\x0cg\\xb2\\xa1\\xd5\\xe0\\x9f\\xcf\\xcc4=\\xde\\x0eS\\xacU\\xd2\\xe4\\x9cq\\x08;e4`o\\xce\\x19\\xa5.\\xb4\\xc3\\x16m\\xec\\xd3\\xd6\\x04\\xb6\\x8b\\x10 \\x96\\xd9$e>\\xc1D\\xc0\\xce\\x03\\xf6h#\\xbc\\x17\\xb1(\\x99\\xe1[p\\x19\\xe4C\\xa2\\xd7g\\xad\\x9b\\x03\\xd22H3\\'g\\x02~gz\\x8ev\\xc1\\xe4^lv7\\x18\\x0c\\xba\\xe0\\r\\xafrlW\\x81]\\x8b\\x14\\xd3\\x89:#\\x05\\xe4\\xaa\"e\\x88c\\x85M}\\xf1\\r\\xa0*\\x0b\\x03\\xee$\\xff\\x0fq\\x7f\\x1a\\xa2\\xdd\\x0b\\xb1\\x07\\x9a)=RET\\x8e\\x16(\\x8bb\\x91\\xa6\\x98{\\\\\\xb9\\xa5\\xdc\\xa3\\x96\\xb5\\xd9\\xe8>\\xa1\\'\\x05\\x86_\\x18q\\xc1Wl\\xeax\\n\\x7f\\x86>\\\\\\xe1\\xf2\\xce\\x9a*\\xcb\\xb3Ez\\x9eb\\x1e\\x12l\\xec\\xc6\\x18\\xde@\\x80\\x9c\\x87\\xf6\\xb3\\x13\\xb0\\xe4\\xe0\\xe5\\xc5V\\x92\\x9f\\xcbq\\xdc\\x96\\xec\\xefs\\x8a\\xdd\\xf0B\\x8f?\\xf1\\x9d\\x95\\xfb\\x9a\\xcb\\x18e_p-$\\xd8\\x11C\\x08e\\x04\\n2f\\xa8\\xfbR>\\x11\\xa7\\xf2\\xd1\\xca\\x9d\\xcf\\xe3mj\\xa0\\x88\\xb6\\x9f\\x98]\\xbe\\xc2\\xf5\\xca\\xfdl/\\xe0\\xa1rW\\xcd\\x19\"H\\xa9\\x89\\xd1J2\\xc5.n?4\\xbbV\\xee\\xe4\\xa7Q\\xc8o\\x96\\xa0P\\xdeWM\\x9f\\xbc\\xacJ\\xb3>K=Y`F\\x1d\\x05uV\\xa1\\xa0<\\xcc#S\\x90\\r*z\\xae\\xc2\\xe5r\\xa7tF\\xd1\\x19\\xd0&\\xc3\\xf8\\xea\\x94T\\x05~\\xf7\\tvy\\x91\\xec\\xc3\\xe1.+\\xcf\\xfb<\\xd5\\xa5\\x95w\\'\\xc3\\r\\xcd\\xa9>\\x95\\x01\\x88\\x0e\\xe4\\xfb\\xca\\x9d\\xce\\xa5\\xa8\\xbcS\\x99RV \\xe1\\x0f\\x9ce\\xb6\\xfa0\\xe7\\x92Q\\xde\\xe3\\xd8v\\xc2B\\x7f\\xb8\\xf1\\xeet\\xe5\\xf1\\xcd#\\xa6\\x0c\\xa9-\\xc4\\x85{\\x91\\x89\\xd2wt\\x83\\x12\\xd2\\x12\\xf2\\x92\\xac>\\xc8\\x9d\\x054LY\\x7f\\xa5\\xed\\xa7\\xd6&\\xacg\\x8e\\x1cm\\x92N\\x90\\x13\\x05\\xf4d\\xbe\\xbd\\xf2\\xd8w\\xe7\\x00\\x91\\x8f]\\x87\\x96\\xf9\\x97\\x08\\xd1\\xd2\\xb6?d\\x82\\x8a\\xf4\\xc2mq<Ff\\x14mF\\xf0fv\\x19\\x1b7\\xe4%Fpl\\x1d?\\xd9\\\\\\x8d\\x9f@\\x1b\\xce\\xe0\\xd72\\x9e\\x1c\\xefFO\\x84\\xc3L\\x86\\xfe\\x81\\xe42\\xd6\\x82\\xb9\\xfc\\xf4V\\xe3\\xed\\tb\\xea\\x80t;\\xe5\\xdb\\xc1\\xfc\\xa6.R\\xa4~\\xf1\\xe3\\x14\\x06\\xf5\\x99=\\xba(O\\xabf\\xb3\\xf5\\x92\\x7f\\x1e\\xef\\xc86{\\xfd\\x0b\\xdf\\x8c\\xc8\\x1c\\x87~\\xd0z\\xea!\\xd7\\x08\\xbbT\\xf1\\xcb\\x14\\x11\\x8a\\x06P\\xfa\\xc1\\xfd{\\xd7\\x9d\\xdd\\xc7\\xb1\\xe0\\xe7+\\xaf\\xfby\\x1cF\\xc3\\x85l\\xba\\x015n\\xc2f\\x00\\xf2\\xdc\\xbb\\xf4F\\x14\\x8b\\xfde\\x90\\xcc\\xe3>\\x19$\\xc5]\\xe8V\\xdf\\xfel.\\x85\\x17O~Z\\x19\\x01\\x8b\\xb8\\x0f\\x05\\x99U\\xcd\\x8bN\\xaf4\\xf9\\xc0[\\x18\\xbdG\\xc1`\\xe4\\xc7Cq\\xa3e9\\x8f\\x0b\\xd5\\xc4\\x0f\\x1b\\x13qrt\"\\xb7\\xc2WF\\xc2\\xde\\x1c\\xee7wuJ\\xcd\\xe9i\\x18^\\x98x\\xd0\\xfa\\x14\\xdd^\\x19\\x96Gs`!9\\xd0B@\\x9a=-\\x88;\\xd5\\xdf\\x11?(ux#\\x8e\\x9b\\xed\\xcd\\xd7q\\xdb\\xadU\\xb8\\xad\\xb9\\xd3\\xafyJ\\xcesgw\\xfe\\xff`\\xda[\\x0e>\\x8cb0\"\\xa4c\\x14\\xf8\\xaf\\xbe\\xb9\\xf2L\\xcfU\\xe2\\xf2^ANHz4\\xd69\\x8cX\\xf8\\xc8\\x90\\xe1L\\x0fV\\xeeu\\x1e\\'.;\\x8cr\\x110\\xe3\\xfbY\\xc2\\xba\\x9c\\xc7[\\x8d\\x9e\\xa05\\xa5\\xe3\\xc2\\x00_\\xf0\\x9d\\x95G6\\x8f\\x83\\xb6(t\\x08\\xe1\\x0e\\x90`\\x88\\x81\\xa3\\xfc\\x80Vg\\xa3\\xd3.XA\\xa7/\\xc4\\x13~\\x83\\x94\\x18\\xec\\xdc\\x88\\x9f\\xf9\\xc5\\x95\\xe1\\x98\\xc7R\\x8dqSd\\x1b\\xc5\\xc8T\\x91\\xf23\\xd4C\\xa0XG\\xe7\\x06\\xb6\\xc1<&jt\\x1f\\xfb\\x83B\\xcf\\xa7\\x13\\x8f\\x1d\\xe6\\xc7\\x14\\xce\\xeaaS\\xede\\x14\\xa6\\x93\\xd5ga\\x1e/5\\xba\\xa7\\x88\\x8e\\xaa\\x91\\xbf\\xc6\\xfd\\x951>\\x8fg\\xce\\xe5\\xdf\\xa6\\xf4\\xe0\\xc2\\x04\\xe2\\x03\\x84\\xdd\\xca\\xfd\\xb77\\xe61mZz\\xf0\\x07\\xbb\\xa9cz\\x81\\x10\\xf2\\x84\\xc8V\\xd4/\\xc0\\\\\\xd3\\xa3\\xd5;\\xad\\xde\\xa5\\x9bq\\xfd\\xda\\x08\\xfc\\xa5\\xf4\\xb5L\\x9d\\xcb8\\xaex\\xc2\\x8fV\\xefy.\\xe7\\xa2\\xe1\\xc2\\xd7\\x00G\\xe5e8\\xba\\x9c\\xf1\\xab`\\x81\\xc9\\xfb\\xabw;\\x97uI,\\xab|9\\xd4P\\xa0\\x0c\\xbc\\xe2\\x02G\\xbd\\x0ed2\\x9c\\xca\\'\\xa5\\xdeo$&\\xe3\\xd4\\x01\\x81\\xc6\\xba\\xb3:a\\xb9\\xbd\\x8a\\xb0,\\xb5\\x993\\xa8\\xba\\xce\\xb0\\xab*\\xc10G\\xf6G\\xb4[\\xca##\\xb7\\xf5 D\\xd9\\x12x\\xdf\\n\\x13\\xf5\\x04\\xd7+/\\x8e\\xb9K\\xb2\\xb6\\xeb\\x1e\\x8a\\xc8p\\x96\\xb7iX\\xa8{+\\x830wy\\xd6\\x82\\xe0\\x81\\xf8\\xd9V6a8\\xd27W\\x06b\\xae\\xd0\\xad\\x07\"\\x80\\x95\\xe5!\\xe3 0\\xa2L\\x1b](\\xf3\\xfa\\xf6\\xca\\x80\\xcc\\x95\\xc6\\xb5\\x80\\x0cB\\xa8X\\x01\\xf9\\x0fLt\\xbc\\xcc\\xee\\xae\\x0c\\xc6\\\\a\\\\\\x0bF\\xcc\\xe9\\x0b>*\\xcd\\x98`\\x9cfwW\\x06c\\xaeP\\xae\\x07C\\xe5\\x0f\\xa2\\xca\\n\\xdb\\x98e\\xbcdq\\xcf\\xca\\x06\\xa5\\xe7\\xb7\\xc1\\xd8P\\xa7\\t\\x02C\\xc7{\\x14\\xb7>vV\\xe1f=\\x88y\\x83\\xb8(a\\x11\\xd9\\xd0\\xe1\\x18\\x9b2\\xb4+l\\xd6\\xee\\x81:\\x84\\xc0\\xb7\\xdc.\\xa0wi,\\x7fDVV\\x1a\\x96\\xb2\\xbfT\"\\xa4x\\x8aA\\x8b\\x93\\x10\\xcay\\x03!\\xd9\\xacU\\xe8\\xc1\\xdc\\x9e\\x93\\x86\\xc4\\x1dM\\x13\\xea\\x80A_\\xcbW\\xa9\\xea\\xb0\"\"\\x9e\\x81\\x90\\xaf\\x03.(\\xbb\\xf9\\xf5\\xca\\xcby\\x1e\\xab#\\x85\\x0b^\\x83\\xc9\\x947\\xfe\\x9b\\x8c+\\xa48\\xca\\x94\\x1e\\xad\\x85P\\xff\\x84\\xa7\\x1c\\x92\\x95a\\x98\\xc7\\xe92\\x18\\xa0w\\xd5A0\\x85\\xe2\\xa5a\\xe0\\xdf\\xefOo6O\\xf38\\x9d\\x06\\x04\\xf5\\x01\\xb2\\xed\\x97b(??Q\\xb1\\xaa\\x8dnN!\\xf0*C5T\\xfa\\xccm\\x105X\\x08B\\xc4\\xeb\\xc8zw\\x15\\xb2\\x96M\\x19\\xac1\\'\\xdb#\\xee\\xe5\\x8fJ\\xb8\\np\\xb9\\x0ff\\xcd\\x0cC\\x93k>\\x88\\xdb#\\xd8b\\xd7)\\x92\\xe5,D\\xa6\\xa5\\x85=\\xc0\\xf7\\x94B\\xc7v\\x97\\xb8!\\x08\\xf3\\x08\\xb3U9\\xfa\\t\\x82R\\nf\\xb0\\xe4X\\xb2\\x7f\\xf1\\x04a\\xdapp\\xdc*q\\x96\\xe00PQ\\x86e\\x06\\x1f7\\x86g\\x11\\x8dri\\xc5*?\\xa7\\xe4\\xa7\\x12\\x1b\\xcfP?\\ri\\xfc\\xd1\\xbdS\\x8e9\\xa6\\xbd\\xe3Ov\\xf0\\x89\\x1f\\x1a\\n\\xa4|\\x8a\\xe0=9\\x89_B\\xbb\\x10~\\xc8\\xa0\\xe5\\xec\\x17\\xedc7\\xff\\xce\\xdc<(%\\x8dd\\x8ey#:W\\xe6\\x80 E\\x91\\xdc\\xea\\xc8\\xcd\\xe1\\x14R\\xce>\\x95a!\\xf0\\x014\\x8a\\xd1\\x1a\\xac\\x08T\\x06\\x8a\\x14\\\\uY6$\\xf9\\xc9`\\xfe!u@\\x12Z\\xc6s\\xfa#\\xef\\xda\\x8aG\\xf0\\xa5\\xc3\\xf1q%\\xb2_\\xe5\\xa0q#\\xb4\\rE\\x19\\x91\\xd2\\x86xS\\x0f\\xfb\\xa52\\xe0\\x81\\xa23\\xcc\\xdb\\x15!}\\xd8\\x88\\xa8\\x8e\\x83\\xcd\\xc3XU\\x0c:\\x92\\xac\\xc7\\x13\\xcc\\x1e\\xc7\\x9b\\xd3n\\xbf\\xec\\n\\xc1\\xd6\\x14q\\xc3\\xdd\\xa2h\\x8d\\xca\\xc8<l\\xdc\\x9b\\x1d\\x9b2\\xb8\\xf9U\\xc4X\\xdd\\x1f$\\x8f?\\xcdLL6\\x11\\x1c\\x81\\xa54+T\\x9a\\x8a9X\\xf95\\x0fR\\xba^(d\\x18\\xfbh\\xa7\\xd4\\x9cN3\\xa8\\x9a\\xfb\\x02\\x8b\\xcd\\x9a\\x9f\\x89\\xaa\\xadX=f\\xe0 \\xcfE]\\xe0\\xf0\\xcc(\\xea\\xd1j\\xac/\\x9eU\\xe0\\x8c#\\xc8P\\xe6\\xa8{@\\xbf\\x8b\\xd1\\xe3\\xe4\\xdd$\\xa2\\xe9\\xde\\xd3)\\x88\\x9b\\xfb\\xe2\\x85\\xdfC\\xe2\\x8b\\xe3\\xf8H`$\\xe3]\\x80\\r\"\\xdd\\x141\\x7f\\x9cl\\xf1\\x97;\\xddnW\\xa0`\\x9b\\xe8\\xfb\\xbd\\xf5\\xe0\\xc1\\xbe\\xbcACG\"z\\x0fi\\xed\\x1b\\x0fE;\\xbf\\x89\\x92GH\\xe8\\xb6\\xc5\\xfdQ\\xf2X\\x04\\xc6\\xdb\\xf4\\x05g\\x87\\xaf\\xe3;\\x10\\xf4\\xe1\\x9aX{\\x90\\x7fg4\\xd8{(\\xec\\xefz\\xf9#\\xf9\\x95z\\x97\\xa0holl\\xe0R\\xc6h\\xa9YEH\\x0fUO\\xe8n\\x886\\xfe\\xe9\\x88M\\xb1-\\xf6D{St\\xdabsKl\\xe3\\xea\\x91@\\x85&\\xd1\\xd9\\xdc\\x14\\x9b\\xbb\\xbbb\\xa7\\xbd!\\x1e\\xed\\xedfI\\xa5\\x12]-F\\x9dL\\xfa\\xaa\\x9c\\xff\\n\\x94OP(\\x08iY\\xdd\\x17\\xaaHk,\\x9e{}Xp.\\xb2\\xf0\\xdb@ \\xf2\\xdf)\\x17\\xcdA\\xf6>y\\x9e\\x10\\xc8\\x8d\\xcdb\\xaaJJ\\xd5\\x84\\xb2\\xca\\x99H9\\x01\\x96Q5\\x12>f]!!F\\x16\\xb7\\x14\\x0c\\x08\\xef\\xc6V>\\xa2\\x8f\\xa9\\xa0\\t\\xccw\\xf09\\x1dP\\x06\\xce\\x91\\xd5\\x7f}(T\\xe1$\\xf3\\x16\\xbdJB\\x08\\xf7z>R\\xa2\\xe8kU0\\x16\\x19\\xf2P\\x98\\x91\\xec\\x9e\\xa5\\x89Ulz\\')9o\\xec\\x11\\xb9\\xd3\\x10-?\\xea\\x03\\x14\\xde\\x01\\xbf\\xa7\\x01\\xb62\\x80\\x1b\\xdd74L\\x8e\\xf4\\xa9\\x18\\x0f\\xd2\\xf6\\xd5\\x88\\xee\\x07\\xbdx\\xf2xS\\xb2i\\x14\\x08\\xa8Fyu\\x94\\xdfW\\xa6\\x10\\xf2\\xf8SQ(,\\rD\\xfe\\xc5r\\x83\\xdd \\x8e~\\x94\\xfa\\xc8\\x02<\\x14\\xbf\\xae=E%\\x88\\xc0\\xa6\\xfa\\x18\\x14\\xb1\\xe5\\xd1\\x8f\\xd7\\xfe\\xd8[\\xfb(W\\xf3(L\\xddO\\xf9\\xeb\\xfc\\xab\\x99R\\x81\\x05\\xd4\\xc2 Y\\xc0w\\x08I\\xf2%\\xf5\\x99$\\x00\\xe3\\xe3\\xba\\xc5\\x0f\\x00\\x9e\\xbc\\xc5?\\x0c\\xc0\\xc9\\xc9\\xeb#\\x06\\xe0\\xf8\\xcd\\xd1\\xda\\xc7\\x8c\\x9cKtc\\xf0\\x04\\x1e\\'-\\x16R\\x82\\x11\\xc77F\\x81\\x05$\\xe0\\xeb\\xb9-0\\x04Z7\\xeb\\xd9;\\xeb\\x12\\xdc\\x07\\xb5p\\xad\\x83Ih\\xe4<x(\\xd6\\xdb\\x19\\x86\\xe8\\xaa\\xa3\\xd1\\xf4@\\x83y\\x80\\xb5F\\xdc\\xebK\\xc8\\x11j\\xfc\\x84\\xcd]\\xd4>\\xb6\\xc5\\x19*\\x86@A\\xd6\\x04\\xc9\\xbb8b\\xfd\"@\\x14\\x13\\n>\\x83 \"\\xec\\xe2\\x11\\xe69\\xd2\\x84\\x0bLSe1\\x94\\x87\\xa6\\x8aa\\xc8\\x04\\xd2Eoi!p\\xb3$\\xaa8\\x99*\\x06\\xc2\\x10\\xab\\xab(\\x15\\x8f\\xb0]\\x95\\x00\\x8f\\xa0+\\xd9\\x8d\\x03\\xe1\\x83j\\x14\\x9c\\xac\\xc55\\')\\x8c\\xc4eT\\x83\\xa0\\xfdI\\x8a(\\x16*ZFe,d\\xf7\\xbd\\xd4\\xa7\\xa2\\xdeX\\x07\\x9a\\xa7,K\\xa3`\\xb0QH\\x9em,SI\\xa4L\\xe2\\x05\\xba\\xe4;\\x7fJR<\\xf5)\\xd0\\x85\\x82K\\x93!R\\x15}\\xa7\\xb0(\\xdb\\xa2%:ur\\xa1\\xb9]x\\xb7#\\xfe\\xfaW\\xb1Y\\xf3\\xf2^\\xb1\\xd9]\\xb4\\x8bH\\x97\\x82\\xbc1\\xe8\\x86%\\x90\\xef Q\\xec\\xd2\\'\\xee\\x80\\x003*4\\x82E%\\xc0*m\\xf8\\x86\\x14\\xb3\\xa8\\x14X\\xdb\\xcd\\x9d\\xc2\\xff\\xb4D\\x92\\x1c\\xa3\\x8d\\xbe\\xe7v\\x8e\\x1e\\xc07t\\xd7\\x0b\\xba\\xbaEa\\x87\\r+\\xb0*\\x8e=\\xa2\\xad+\\xf0F\\x19{\\x94\\x93\\x18\\xf4v\\x87V6\\xf1K&\\xa2XN\\x1e/sI,\\x10\\xf4$\\x9b\\xae\\xf150\\x08\\xcc\\xa1\\xf2zb_S=\\x13\\xe4e\\xd9\\xfe`H\\xd1]\\xb4]\\xb2\\xcfL\\x89\\xe2=H\\xfc\\xa1\\xdc\\t\\xf3\\x87\\xef\\x14\\x9fx\\xa8\\xae\\xad\\xd2\\xf5_\\xd55w#?i\\xe9[\\xb4\\x11H\\x94OuL\\xa8\\x9a\\xc3c!+\\xee\\x0c\\x91\\xc6\\xa3\\xdb_\\x7f\\xa0\\xdfV$\\x0c\\xab\\xc9eF\\xcdF$D\\xb5A\\x96\\xca\\xe90\\x1b4\\x96\\xc9\\xcfY\\xda$\\xa7\\xf7@\\xd7\\xdd\\xb0c\\xcb\\xb6P\\x1c\\x99\\xb1\\x86\\xdaq\\xa6(U\\xb8C\\xed\\xe7a\\xce\\x13*I\\xb8I5W\\xfex\\xe2\\x14\\xbb\\xcb\\x02KuB)\\r6\\xab\\x1d\\x05\\x1a\\x83\\xb4A\\x1e7\\x0bQH\\x83\\xad\\x87b\\xe7!\\x0e\\x00\\x904\\x00-\\x89\\x18\\x1a\\x9e)=\\x93&@~@\\x18P\\x9fB\\xd5l6\\x9bR\\xcb\\xd4\\xef\\xeb/\\xff\\xaa^\\x92\\xaf\\xe8VI\\x17]#\\xcdL\\xbf\\xe6\\xc7\\xfb\\x10\\x98\\xea\\xaaN\\x96\\x95>\\x10(\\'}\\x8bdE\\xf1\\xa9\\xb4\\xd2_@\\xc7\\x12\\xa8\\xf1s?B>N\\xf8\\xd8\\x15G\\xbcLs\\xeaR\\xd2\\x86\\x04\\x18\\xc9\\x1fO\\xa4\\x1c\\'\\xa6T4b<\\xb0\\xf4@\\x92\\xaaD\\x01K\\xa8\\x92h\\xa3\\xda\\xc7\\xf6\\x85\\xb8?v\\xedx\\xf8X\\xd1\\x87\\xdf/\\xd1\\x10\\x90]\\xba\\xc3*\\xfe,e!\\xd7~\\x90\\xdd\\xd6\\x8d2\\xb1\\xc7\\xaaf<iI$o\\x91&\\x02\\x01\\xf4\\x90$*\\xea\\x89\\xa1\\x9c\\xff\\xb2\\xc2\\xad\\xac\\x80*\\x12)\\x0c\\x9a\\xaa\\x95\\xff\\x99\\x84\\x9b\\x12i\\xd2~\\x11\\xeb\\x8c\\xb0\\xf7\\x01R\\x99\\\\\\x0f\\xdc\\xc7P3\\xa5\\x16\\xd8@\\xc4\\xfa(|(\\x8e\\xd7\\xc6\\x8a\\x89\\xdem\\xd4-\\xd5\\xd9W\\xab\\xe5\\x83!\\xcb\\x8e)\\x8f\\x1dl\\x19\\xecx\\xc0\\x1bBE*E\\xa12\\x90!\\xa7N\\xaf\\xaf}\\xa05\\x05V\\xcd\\xf5\\xb8\\xa8T\\xdd\\xf7\\xff\\x15\\x90IW)\\xe6f_\\xfe\\xcb\\x1d\\xb9\\x86+\\x06\\xd9_{\\xe5?\\x14\\x7f\\xa76\\xff\\xd9\\xacm\\x92\\xde\\x91M\\x80\\xe71\\xa2\\xd4\\xa2\\x04\\x08_\\xa28\\xfe\\x94\\xfa\\x0e\\xc8\\xc2\\x1eO\\x1e\\x8b#\\x14\\x93#s\\xf85\\xf2\\xf2a\\x12k\\xf5\\x91\\xa8Q\\x16\\ns3#\\x8e\\xd8\\x17\\xd8\\x11e\\x8f\\x16\\tM\\x90\\xf0\\x98P\\x9b0\\xad\\x15\\xddb\\xbfm*P\\xb1\\xc1\\xb9\\x18M\\xa5\\x14\\xec\\xe9\\x90K\\x18\\xdaJ\\x07\\xa7b\\xfd\\x99L$\\x11F\\x1a\\xa4.W\\x0b\\x01\\t\\xa6\\x88\\xc4\\x01\\x81`v\\x86\\x91J\\xfb\\x07\\xcb\\x92R\\xa3\\xfba\\x08\\x0f8\\xcf\\x1d\\x95xC\\x9c\\x02\\xfb\\x1b\\x95\\x16\\x8a\\xbb\\x12Re\\xa7\\t\\xda\\x0b\\xa4:~_(^\\x8a\\xc9]\\xba\\xac\\xda\\xacA\\xb7\\xa8~\\x95\\x99\\xcdj\\x8a\\xd5\\x92W\\n\\xa6\\xb7B8\\xd6)W\\xef\\xcd\\xec\\xed\\xacv0\\xb3F\\xec\\xd0\\xf0B\\x16\\xac\\x16\\xa8\\x89)j|\\xe5\\xdc{9!t\\x1a\\x01YI\\xf1\\x14%\\xcb\\xc6\\xb0\\xd0\\xc9\\xfc\\xf5P3\\x8d\\x1dJ\\xa3)\\xcf\\x87\\xf2QP\\x190z\\x9eU\\x85\\xe5\\xa0\\xe2.\\xaf-Av\\xb3\\xb6\\x863|T#\\xa8\\x94W\\x86=\\x1e\\xe5)+V\\xa2\\xe1\\x1a\\x80^dV\\xb3!\\xef\\x05\\xf9\\xdc\\xe8\\x0bv\\x9f*\\xc8\\xd4\\xb5Q\\xee\\xcft~\\xb0\\xab\\x92\\x93\\xb8\\x9e\\xc9\\xef\\xf0w\\x94\\x8e\\x83\\x19\\xe7\\xe4\\xf2UlP\\xc2\\x97\\xeb\\xb2j\\x9f\\x1c\\xe5\\xad) \\x90\\xe3\\xa5r\\xc9p\\xb3\\xec\\xa3\\xd4`\\xcd\\xac\\x18zP\\xe3\\xae]\\xf2]\\x13x\\x94 \\xa4mhy\\x96\\n\\x95\\x95+\\xdf\\xb0\\xac8\\x8d.=\\x9c\\x19\\xa0\\xaaF\\xf4P\\x15\\x8a\\x94\\xc2\\xc0\\x95\\xd5\\xb6\\xf7\\xc5\\xbd~\\xdf\\xed\\xef\\xee<\\x86\\x8cCMo\\\\\\xef\\xecly\\x1b[\\x8fE\\x0f\\x85\\xad\\xb1\\x0f\\xa1ooll\\xb9\\xbb\\xf6cA\\xa5@,{\\x04\\xbe\\xbb/\\x90N\\x00\\xa5\\x1a\\xaf\\xce\\xb6\\xaa_\\xd7\\x9f\\xf7\\xfb}R]]$\\x04\\x0f\\xf6E{cr\\xfd\\x18Ve\\x84\\x10\\x82}\\xd1\\xdc\\xf6\\xc6x\\x18\"z\\x12\\xc8\\xde\\xa7\\xcc\\x17\\x0c\\xe9\\xd2{\\x0c*\\xc7!%\\xfb\\xe2\\xd1\\xf6\\xbfUv\\xb2\"\\xe8jD(\\x0c\\xe4\\xa71\\x80@\\xafL\\x88\\x05IPF\\xe1\\xa7O\\\\\\xab_z\\x8c\\x91\\xa1\\xac\\x96\\x82LG\\xa6c~\\x12JJ\\xae.cA\\xc9\\xc9\\xd4\\xbe*\\x08\\xb3\\xb0\\xa7\\xcc\\xe7K\\xf9^\\xe6\\xfew\\xd5\\x8e\\xed$\\xbc\\xa2\\xd4\\x12\\xe9x\\xebM\\xc59\"\\xe2\\xc9+G\\xce\\x01\\xf0\\xc5)\\xc8\\x95\\xf39a\\x9b\\xbb0R\\xe06\\xddG\\xe05\\x15\\x0fB\\x01r\\x18\\xfa\\x10\\xa7\\xe4\\x01\\xa5\\xcd\\xd67\\\\\\x9e\\x08\\xcc\\xd9\\xb5\\xa7w\\x85\\xe4\\xa5\\xf2\\xbf3.qU\\xaa\\xdd\\xc2N\\xc7\\x85\\xd0\\x17\\\\\\xa7\"\\xbb\\x82\\x06\\x80\\x99\\xcd\\xd7\\\\\\xb6\\xb06v\\xf0O\\xc5\\xc2\\xdaqm\\xd85\\x95\\x8b\\x88\\x1fiF\\x94E\\xeb\\x15\\x8b3\\xd3n7\\x17I\"\\x13\\x8e\"7\\xb7p\\xe0\\x89\\xe5FXA\\xd8\\xbbB\\xed\\x13\\xaa\\x80{\\xd8\\xf8\\x84\\xa3r\\xa8*\\x05\\x1f\\xa2\\x14@\\xc7\\xf7\\xb8\\xbe\\xd5\\xe9\\xfb\\x93\\x93w?\\x9f\\x89\\xb3WG\\x84\\x0b\\xed9\\xd7sV\\xcd\\xda@\\xc5&\\x1dR\\x11\\x89\\x9a]\\x18\\xf35F\\x13\\x1d\\xbc\\x03x\\x04E\\xc1\\xa9\\xe4Bu\\xabb\\xabB\\xf3\\x91\\x83aG/<\\xf9\\xb9:\\x91h\\xb9\\xa4m\\xa3\\xab,\\x13\\x18I\\x8cy\\x02\\xe3\\xb0#\\xfd\\xbf$k\\xc9\\xad\\x04\\t\\xb3\\x06\\xf9\\x80\\x10\\x02\\x12\\xd8\\xa68\\xc2\\xca\\x81\\xac\\xcf\\x8bj\\xc2\\xbf\\x04\\x9f-g8\\xe0,\\xa1d\\r\\x86\\xaa)\\xe6\\xd9\\xa2\\x855\\x9a+@\\x13\\xd9S9\\x01\\x16 \\x16\\xb2-\\xbb\\x9c\\\\\\x99K\\xf9,\\xa1C\\x1a\\x1a\\x85\\x8c\\x0e\\xa3\\x00jA\\x1c\\xd4\\x08gz\\xa7vVt\\xde\\xd8\\xef=%\\xba\\x9fl>t\\x9e\"\\x94\\xb7\\x0e\\x0e\\xc1\\xcb\\x14\\x02u(\\x00\\xe9\\xd9\\x8cL\\x14\\xd9M\\xb8\\x88\\x8atV\\xa0\"\\xad\\x8fr7p6\\x91\\xb5\\xa9[\\xe5\\x0b\"I\\x0eI\\x07U\\xdc\\xe5\\n\\xa7h\\xf55\\xc8?N\\xf6\\rOz\\x9e)\\xa7\\x12\\x0eu\\x8d\\x86\\xcd\\xf6&B\\xa0\\xb5b\\xb2\\xd9l\\xe3\\xff3\\x92\\xff\\x16\\x10ndU\\xfd\\xfeX7\\x93\\xc5tR\\xbc\\xccF\\xd14\\x80+\\xe3\\xb4\\x05B\\xa4d\\xb1X\\xda\\xec.\\x85\\x97\\x07~\\x01\\x14\\xd3\\x8cH#\\x1e\\xa1\\\\\\xb0\\\\\\xa5\\xda}\\x82y\\xc14qN\\x10lGr(\\xe5s\\x14\\x06$*X7\\xe5\\xfd\\x96\\x8c\\n4g+ye\\x1a\\xdd\\xd2\\x8d\\xdb\\xc7?\\xd7{T,\\x89k\\x1cUo\\x8d2\\xd1|\\x11\\x13\\xa2\\x8e\\xb2\\xd5.\\xabDj\\x94\\xbfF.\\x0c\\xef\\'\\x01\\xd9\\xac\\xd8\\xe2/W\\xb1\\x81t\\x92\\xe2\\x8d5\\x02\\xf8\\xb4\\xb4\\x8e ]\\xd9\\x8aM%\\xd1\\x94\\xbe\\x06\\xa7\\x1a\\xa2\\x1c9\\xb5\\xf2\\xbdx\\x07\\t\\xa8\\xeb)\\xd1\\xc7\\xb4\\x85\\x8a\\xef\\xc9\\x84\\xe433\\xac(\\r 1{\\xd0r0\\xa1`\\xf6\\xaa\\xd03\\xf4o\\xf2RpE3j\\x11\\x95\\x05gg\\xab\\xc5e0\\xcd\\x8a\\x9f\\xdd\\xd2\\x8d\\x1b\\xcd\\x93\\x165&M\\x95\\x99\\x15y\\xa4\\xd4t\\xc5\\xd0?\\x97\\x12;t\\xb2U:\\xd6\\x93L!W\\x8b\\xe9\\xacR\\x19-\\x03\\x83:Oi\\x0f\\x8a\\x03\\x9d@R\\x06Z_\\xd7>\\xf8\\xf2\\x15E\\x11n\\xd9\\x8a\\x92\\x8cM\\xc5h\\x11\\x0b\\xad\\x03\\x88\\xfb\\x9dhi:\\xa0h\\x841\\x9d\\xd6\\xc7\\xc5d\\xcc\\xa2\\xd3\\x14\\xf5A\\xc8\\xaa\\xaa\\xec\\xca\\xbb\\x87\\x14\\x8e%];s\\xa7{9L\\x94\\xea\\xfe\\xce\\x87\\x9f\\x9a\\x9c;\\xc0\\xa5^\\xe0\\r\\xfb\\x83\\x04\\x1b\\x7f\\xb4I\\x04\\xd3\\x9aNgd\\xf5\\tG\\xc6\\xb5\\x1f\\x9d\\xb5\\xb7\\xf6;\\x9b\\xfb8\\xeb\\x04\\xfb\\xd8\\x1b\\x1b\\x9b\\xdfml\\xe0\\x02H2\\xa3\\x14\\x90T\\x86B\\xd6\\n}\\xfc\\xadR\\x9c\\xb8\\t:\\x95g\\xeca,3\\x88\\xad\\x0c\\x00\\xa4\\xef[\\xed\\x0e\\xa5\\xe3 \\xfc\\xc9F\\xa8\\x18\\n\\xb5\\xb3)l\\xb1\\xa2\\rk$\\x9d\\x10\\xa8\\xb8Ozw[&8s\\xbc\\xe2K~\\x7f_\\x9f\\xf2\\xa8\\xfc\"\\xa8NC\\x9f\\x89\\xf7\\xf23\\xb1~BZE\\x1b\\x1e\\xabe\\x8b\\x8c-D\\xf3\\x9f\\x19\\x8b\\xc9\\xc8\\x8dV\\xc7\\xe1\\xd9\\xeb\\xe7?\\xff\\x8f\\xc0`\\xbb\\xb3\\xecJ\\xdc\\\\\\x1d\\x8b\\xbc\\x127\\xffG\\xe0qY,vn\\x88\\xc5\\xce\\xd7\\xc3\\xe2\\xdeY\\xbb\\xb3\\xdf&F(\\xb9bgu\\xae\\x88]\\xdb\\x1bqE\\x84\\xe4\\xc1o\\xe3\\x18;q\\x15U\\xd4\\x14\\x06\\x91\\xaa\\xa8\\xde\\xd5\\x1aT\\x95\\x07\\xe1\\x05\\xf9\\xe8\\xaf\\x94\\xf5\\x8f\\xd8{\\xa8]?!\\x12\\t\\\\\\xf8\\xae\\xf8\\x7f\\xff\\xfb\\x7f\\xfd\\xf7-q\\xc9\\xf9\\x95\\xb2\\xca^\\xc2L\\xa9`\\xb7]%\\xfb\\xadS\\x94X\\xb4\\x1b\\x91OE\\xc5\\x87\\x03\\\\\\x97Tu+\\xbb-7\\xff/V\\x7f\\xe8\\xc0^2G2\\x15\\xe8\\xfd\\x04\\xea-i\\xc2:<\\xf8\\x8b\\xd5 \\x1d\\x8c\\xab\\xbb2\\xb25X\\x03\\x92\\x1d\\xfd\\x99u\\xa0\\xda\\x89\\xd6Z[\\x9dx\\xdf\\xb66\\xdaV{\\xe7\\xac\\xbd\\xb3\\xdf\\xde\\x06;X\\x8a\\x0flk\\xed\\x88\\xbf\\x9d\\xe5\\x03\\xf5\\xc1\\xcf\\xed\\xbd\\xbd\\r\\x18\\xe3\\xa0\\xe6\\xd7\\xf0^b\\xe7\\xff\\xc9\\x98\\xce\\x1eq\\xed\\xf1-\\x11\\xe9R\\x1a\\xe3\\x97a\\xab\\xd39k\\xef\\x02U7\\xc1V\\xa7\\xb3\\x1a\\xb6\\xb6\\xb7s\\xd7\\xc5\\x1b\\x1c\\x0cLd\\xf1\\xfc\\xff\\xfe\\x1f\\x1c\\xd73r\\xc3\\x08\\x9b\\xc7\\xb7\\xa6\\xff-\\xc4\\xc9\\xc2\\x17\\xe6,\\xb1\\x8e\\xb5\\xd19c\\x8c\\xad\\x8e4\\xfav!\\xd2\\x98)\\xc6\\xad\\xf6\\xde\\xceN\\x8e0\\xb8\\xf4\\xa2\\x10yX\\x7f\\x13/\\xde\\x9d>?zC\"\\x01aI\\x7f\\x16\\x94\\xb5\\xb7o\\x8e\\xb26\\xc6Y\\x96\\xce\\xf3\\xa8r\\xcbp\\x91=E\\xd9z\\xec\\xc6\\x8a\\x1f\\xedh\\x14G)\\xdc\\x08\\x7f.\\xbcu\\xda7\\xc7[\\x07\\xae\\xc1U\\xf0\\xb6\\xb3\\x87\\xe5\\xf6\\xfc\\x1c\\xb1\\x18\\xa1x\\xe9\\x03_\\xe2\\xc7\\x10\\xfa\\x07\\xceG\\xb7\\xbf\\xd6B[F-YM\\xff\\xa8\\xd3Kn\\xb0UPT]J9\\xa0K\\xb8o*\\x0eD\\xc9$\\x9a\\x19\\x1b\\xbe\\x84\\x07\\x87%\\xc3\\\\&\\xf6e\\x8e\\xc1\\xd2\\xe02u\\xe6\\xb4\\x9c\\xb9\\xfe\\xe5\\xeaL9\\x976\\xcb\\xcbam\\xa6\\xd4aI\\xad\\x99\\x8b\\x81\\xb9\\x0f\\x0b\\x9b\\rFU\\x00\\x1c\\xa5H\\xd5\\xd3evI\\xe1~\\xbb\\xf3\\x08u\\xfa\\x17 \\x1d\\xbe)\\xe7\\x82+b.v\\x16\\xe5\\xdb-e\\x14\\xfcf\\x8f\\x11\\xcd\\x17\\x068\\xc6\\x90\\x8e\\xf9\\x18\\xa1&?bW\\xfd>\\xb9T-\\x1c\\xbc\\x87\\x7f\\xa2\\xc9\\xd0w,\\xd4\\x1b\\x89\\xa6\\\\\\x1a\\x16E\\x9b#\\x1d\\x0c\\x88bzC\\xb8\\xb4-\\x0e\\xea\\xc0\\'\\xa0\\xea\\xb3P\\x86P\\xa2\\r\\xf6\\xa5\\xda\\xaeL\\x1d\\xa28\\xaa\\x17\\xaf\\x8e\\x1e\\xd2q\\xd3\\xc8gQ\\x15 (\\xde\\x81b\\x95\\x91\\xfc\\xc3\\x8es\\x84Xr\\x15BJ\\x11\\xa2(vx\\x81\\x13\\x9c|\\x1f`sz\\x80\\x9d\\xee\\x119\\xe1\\x9d\\x8b\\x87\\xe2?\\x01w\\xb6\\xf7\\x84Xp\\x0e\\xa7\\xe2\\x18\\t\\xb8r={L\\x8ev\\xee\\x9e\\xda\\xa1\\xd8\\x07\\xda\\xc6\\x97\\x10\\xd0-\\x9c\\x19g\\xd4*m\\xe2|\\x00\\x94S\\xd1\\xb6\\x92r\\x02c\\xc7\\xa5\\x8f\\x84\\x1b\\x0cG\\xfb\\xfd\\xc9B\\xa2\\x98g\\xda\\xc4\\xc6\\xee5\\x0f]\\xc6\\xb3\\xd0\\x8d\\xf57\\xaf\\x11\\x86m4K;b\\xe2\\x8a\\xc2\\xb6\\xd1u\\xef\\xd2\\x0f\\xd3\\x18u\\xdaCDU\\x93kY\\x1e\\x1c\\xc9\\xcf\\xb0\\x15i\\xa9\\x8d\\x1e`Ho/\\xd0Nn\\x168Tq\\x88\\x8d&h\\xb6K\\xc8U\\x99-\\x87\\xf9\\xcb\\x11\\x07``\\xbf\\xc8\\x81\\xf1\\xa7\\xf6\\xe3\\x0f\\x1b(QB\\xd7\\xf0\\xec\\x91}\\xc9\\xd7r\\xb3\\x9c\\x7f\\xf2.<\\xce\\x91\\xd8\\xd8\\xf8\\xb7,\\x14\\x83\\x17\\x9eE\\xe9\\xdas\\x9c\\xbf\\x19\\xcb\\xc1\\xe1!\\xeet\\xf12\\xe5\\x91$\\x08\\x051\\x876\\xef\\xf7\\xd2/\\x1e$.\\xf2\\x8dr\\x07o\\xeb\\xf7\\xa7\\x03^\\xa1\\x88Da\\xca\\x12o^\\xefc\\x91e\\xa4%^\\xe5\\xa4%\\x8e2\\xd2b\\x1b\\\\\\xedy\\xbcQ\\xeb\\x8b\\xe3n0+$\\x17\\xf9\\xfcD\\xec\\xf5?\\xc1\\x96\\xbe\\xe7SQ\\x0f\\x1f\\xeb\\x87\\xe8\\xe6)\\xcarc\\xb5=\\x1bz8xeDY\\xf9o\\x10\\x96\\x86T\\x02| Cm\\x81\\x81\\xa5\\xd0\\x05A\\xbe\\xc4\\x0c\\xe0\\xad\\xc5s\\x8a\\x97h\\xad\\xcd\\xefWI\\xcd\\xb9\\xd3\\\\\\x0b\\xf8W\\xf3\\x1e\\x98t\\xbd\\xa4\\x13\\xa1\\xc0\\xf7\\x97\\x14\\xb4_&J\\'\\xbc[\\x96;\\x04\\xb2\\x8dwZW\\xf7)i\\xd0\\x9f\\xe0\\xec%\\xb5\\xef\\xb6`\\x0fD\\x95\"\\xa6\\x1a\\xcfE9iVy.\\n\\xc9\\xbf\\xdc\\xc1\\xb6fy\\'\\xe3/<yd\\xe4\\x1c\\xf4\\xba8\\t\\x19igY\\xbd\\n\\xb0\\xad.\"\\xa23>an-$6\\xf6\\xa9\\xf4\\xb9\\xaey\\x1c\\nn\\x9b\\xf1 \\xf2\\x9c\\xdb\\xa6\\xcb\\xaa$v\\x0b\\xce\\x11\\xb1\\xa5\\x0e\\x08\\x95\\xea%\\x91\\r\\x02\\xef\\xf3\\x13J*\\xbf\\x9fL\\xb1\\x93\\x1b\\xeb\\xef9\\t\\x1f;\\xdf\\xd8y\\xf0\\xb19\\xb8\\xa8\\x81^\\x98$#\\x0f\\x07\\x93\\xd2\\xf1\\xcf\\xdd\\xa7|\\xb5\\xf8+\\xc4\\xce\\x07\\x90\\x8dt\\x18)\\x7fw&\\xaf\\xb3\\x0f\\xf3b\\xf7\\x18c\\x1f{\\xb3\\x17\\xcdI\\xe8\\x84\\xa1:\\xedO\\xc5!\\x11:\\xba/\\xe8\\xe9\\xe2\\x1e\\xe9\\xe4gt\\xd7\\xc9\\x8eP\\x95\\x17R\\xe1V\\x91\\xa9\\x98\\xa6\\xc2\\x84\\xbd|\\x7f|\\xfb\\x13V\\x95K}v\\xc1\\x19\\x1a\\x8dn\"\\x7f,\\x18N\\x96\\x93=\\x08\\x10\\xc7\\xc489\\x91\\xb3\\x1f\\xb7N\\xa6/\\xdf\\xf5h!\\xd0\\x1c\\xaa\\x9f\\x0b\\x9aS\\xcb\\x88b\\x86\"$?_\\x90J\\x92\\x92\\xd7\\x00k\\xa9\\x99^\\xb4\\xb4\\xab\\x15\\xc1\\x11\\x9f\\x93\\x16\\x87rR\\xe3?qE\\x959\\xcb+\\x03\\xf3s\\xd2D\\x99\\xd4\\x93\\xe9)\\x15*\\xc5\\x97\\xf4w\\x89o/\\xfcK^VX\\x8e?\\xe2\\xe7\\x82/\\xd4(\\xae\\xae%#P\\x1f^]K\\x89\\xb2\\xe0c.%\\x0cY3\\x99\"x\\xa1IA\\xa0P\\x9f8\\xfe\\x00\\x80{\\x01\\xce\\x18\\xa3\\xd0\\x112\\xdb\\xf0\\x12\\xf0\\x9a\\xaaRh5\\x0b\\'\\xaf\\x87\\xc3\\xf2\\xe9-\\xe5\\xe9Q\"\\xd4\\x92\\x04\\x0fF\\xb2\\x80dQ\\x86G\\x93\\x1c\\xfa:Y\\x027\\x88\\xbdF\\x0e\\x01\\xf6s)\\'N!\\xe7\\x84\\xefe\\xa8)\\x10\\x1d\\xda\\'~\\xca\\xe4\\xa9\\x99%\\xd3\\xdbq\\x8e\\xd0,\\xa4\\xbbL8\\xd5\\xe5w\\x96\\x1c\\xfd\\xbc\\xb1\\xb3\\x02\\n\\x96\\xd3Di\\x10\\xcc\\xc6Su\\xb9`v1\\xb9t\\xd0y\\xd3C\\xf0\\xd9\\x154\\x045\\xfc3\\xdc[\\xfc%\\x07\\x8c\\xa6\\x93\\xa6\\xd4Q!K\\x06\\x9e\\xea\\xfdg\\xf9\\x84\\x9a\\xa8\\xc7\\x04\\xc7\\x1c\\x8b\\'.\\x9c\\xd3\\x08_\\x90\\xba\\xf8\\xd2\\x0ba\\x1e*\\x88\\xa1\\xe1\\xe8DJR&\\x9e\\x8fb\\xc4\\xf2b\\xc1\\x88h\\xa5\\xc7(W\\xad\\xd9\\xbd\\x0fZ>\\xc5\\xf5\\x12\\x9fQ\\x8f\\xa4\\xae\\xb3\\x15\"\\xf9\\xf6;\\\\\"Z\\xcdY\\xc4\\x80\\xa9\\xd7k\\xac\\xa6x\\xd8\\xe8\\xe2o<\\x9cE\\xda2.\\x89\\xec\\x9c\\x0e4\\xa4\\xc2/f\\x02\\x9c3yZ\\x13\\x02W\\xe7\\xa8(\\xeb`\\xa6\\x06C\\x9bx2N\\xa8\\xce2-\\xbc\\xcd\\x94c\\xc1h\\x03n\\xe7hx\\x95\\x8a]\\xad\\x12\\xa4$\\x93\\xa9%`\\x0e\\xa9D\\x03WV\\xd0\\xff\\xaa\\x95h\\x04\\xb9Q\\x88h\\x16\\xcaV\\xb1\\x15FSA\\xe9\\x18:\"\\x89\\xb2\\xa7\\xc6\\xbeL\\xf6\\x83\\xd1Hv\\xa4\\xd2\\xca+>\\xa6\\xe4\\x12\\x19&9\\x86M\\xc4\\x99Y0Y)=\\x05|\\xcfv/q\\xec\\xb24EU\\x13f<\\xa5\\x0e\\xef\\x97/\\x93\\xad\\x89<k\\xd4\\x15\\xe5oa}\\xa2\\x98+eG1\\x04tV\\x19\\xa5\\xde\\xf6a2S\\xa5\\td$\\xf1kd\\xe1B\\x95 \\x0b\\x97S\\xabT\\x88\\x13\\xbdX\\xea\\x11\\x9f\\xcc\\r\\xf4\\x97h\\x92\\x81\\xfe\\x14\\x11Ch\\xe1\\x13\\xe6)Z-\\x0b\\xc2GZ\\xf0\\x05\\x9d\\xce\\x19C\\x90\\xa9\\x19\\xc9X\\xb5>\\x7fQ\\xd5\\xbd\\xa0\\xf2-qK\\x9e~\\x1a\\x0f}\\xd4\\xb3\\xe9>\\xd5\\x81\\xc72\\xe8Xb\\x9e5\\xc4\\xbaF\\x8a\\xf1\\xbd\\xfa\\x04TB9\\xcf\\x8b\\x8c\\xd9\\xe5d\\x9aYCC\\xaf\\xf4\\n\\x7f\\x18V\\x89\\x8c\\xee\\xafp\\xb4\\xcc,\\xcbY_L\\xc5+\\x85[e\\xcb\\xa4.\\xfb\\x013\\x99\\x9f\\xbd\\xa3\\x8fU\\x17\\x9c,\\xc1\\xfb\\x95R\\x03.n\\x862\\x0fx\\x11b\\x99Q8\\xae\\x8b\\xcc5\\xae\\xceJNC\\x99\\xb4X\\xe0\\x08\\xb9z\\xdd\\x97\\x9fp9\\x13u\\xaak&\\xd8\\xf8L\\x1e\\xf9\\x82\\xcelP0\\xd0\\x89 %#\\xbf\\xb0\\xcb\\x9a\\x7f\\xc8\\xc7s!&j\\x067\\xe6\\xfb\\x19\"\\xea\\xf8\\xc8\\xcc\\xd7ju\\x10\\xd8\\x14$n\\xa1v\\x0cNk\\xa6\\x83\\x08\\x95\\x12<{\\x9a\\xb3\\x94\\xdc\\xd9\\x19\\xf1\\xcb\\xc5I\\xcb#\\xdd\\x17\\x1d\\xd8\\xfc\\x14 \\xd0\\xe2;\\x0b\\xf9H\\x96\\xd9\\x95A\\xe0\\x16O\\xe7!?\\x9f=A\\xf2\\xd9\\xa5?\\x90\\x9e(*VS<L\\xd88\\xefJ\\xba\\x04M<q\\x93\\x8c\\x86\\x99\\xe3\\xe7\\xb2S\\x87\\x0c\\xb4\\xe7\\xee>}\\xbc\\xd0\\x8dO\\x13\\x92s\\x99/\\xa1\\xda\\xe3{\\xe6\\x16\\x9c\\xfdv\\\\\\xd0\\xe0\\xdbqA\\xb3\\xe5\\xaa\\xe4\\x92\\xce\\xca\\x12-X\\xe1\\x9d\\xca\\x15\\x9e\\xc7\\xaf\\xe3\\xf4y\\x1dE\\x7f\\x93\\x1as\\xb7\\xb3\\xd2Mp\\xf232\\xbe\\x1d\\xe7C\\xcc\\xab\\x82\\x7f\\xe5\\xc7\\x7f\\xcd\\xab\\xd8h\\x9cZ\\xf4\\xed8\\x9flU\\xfd\\xf9\\x8f\\xf3\\xa9\\x97f\\xe6\\xd1\\xdc\\xb94\\xe3DT\\xa2\\xf2/;\\x89\\xe7\\xb6(\\xfd\\xdbQ;\\r\\xd2\\xe7\\xe5\\x19<_v\\xc0\\xcd<\\xea\\xcf\\x92c\\xbe\\x1d\\xb53{\\x04\\xd2\\xb7\\xa3v\\xe8 (i\\xe7\\xfe\\xc9\\x8f\\xda\\xa9\\xe7\\x86\\x14\\x0c\\xa0\\x04\\xa8\\xe1\\xd4\\xc8,}\\xe2\\x89\\xcf\\xccj\\xc0\\xd9\\xcb\\x05S\\xaa\\xf6\\xc4\\xd0\\xdb\\xe1\\x8798\\xd29\\xf1\\xed(\\x1c\\x9a\\xb2%,\\xa7y\\xbc\\xef\\xdbQ8\\xadoG\\xe1|;\\n\\xe7\\xdbQ8\\xbaf\\xf1\\x12\\xfc\\xa4=\\xb7\\xce7yS3V\\xfd{\\x1c\\x85S/\\xc6\\xb6+\\xc5X9\\x12\\'\\x0b6\\x98\\t\\x0c\\x9c\\x89\\x08\\\\\\xf9\\x00\\x88\\xdb\\x91te\\x88\\xbf\\x1dV\\xc3G\\xf5|;\\xac\\x06gJek\\xe1\\xdba5&6\\xb2T\\xb5\\xdf\\xf5\\xb0\\x9az\\xd6\\xb3S\\xc9zJG\\xb5\\xe4\\xe7k\\xd4\\x9d@\\xc3Gp\\xb0\\xd7_\\xab\\xe3_S\\xc3.\\x81\\xab6\\xf7\\xbe\\x9d,\\x13y\\xfd\\xc3\\xc6\\xb7\\x93eJ\\xf5\\x0b\\x10n\\x802\\x16_\\xf9d\\x99z\\n\\xdc\\xad\\xa4@\\x95\\x7f\\x04\\x03V\\'-\\xfe\\x8bhK\\x01\\xa2\\xf6\\r3\\xb02g\\xab\"\\xb6\\x1c\\xcao\\x87\\xbf|;\\xfc\\x05!.rA|\\xad\\xc3_\\xea\\xc9k\\xaf\\x92\\xbc m\\xa5s\\x08\\x01\\x8b>b3T\\x18\\xf9\\xbfBz}]/\\xee\\xbc\\x13\\x1f5$\\x03\\xd4\\xb0M{\\x1c,,\\xc9\\xbe\\xe5\\xa8\\xbf\\x88\\xfcI\\xbd<\\xea\\x19\\x01\\x7ftCP\\xb0\\xdc\\x85\\x87:\\xc3f&\\xe4\\x12\\x06\\xd9<{L\\x03\\x83\\xf0\\x8bQ\\xe1|{\\\\\\xa3\\xea>\\xf6Fc\\xccZ?\\xd4U\\xb90\\xa3\\xc6iB\\x8a]\\xe1\\xa6\\xaaU\\xbd\"ds]O\\xb4x\\xe84\\x10\\xd4\\xc7A\\xc2L$\\xe3w\\xcc\\x93b\\x913\\xf5&{\\xb42V\\xe6\\x9d\\xba\\x84@\\xd4K\\n\\xcfIQA\\xbfp\\xa0\\xb6<u\\x19\\x01P\\xa7\\xea\\xa1\\xe0\\xa9)u\\xbe\\xe0\\xc0V\\xf5\\xb8\\xa0\\xba\\x19\\xee\\xd5r\\x9c\\t\\xd6\\xd2\\x1f!\\xceDCh\\xfe\\x9d\\r>Y.\\xec\\x88\\xda\\x90o\\xca\\x03\\x9e\\xa8Nd\\xd3\\x88\\x00\\x92\\x81<\\xb3\\x15\\x18\\n)\\r\\x14A\\xd4\\xb3)\\nl\\x06\\x93u\\xf1>\\x95c\\xa8\\xbaid\\x11\\xc8\\x98$\\x05\\xd1\\xd2!4\\xb30e3</\\x84\\xa6\\x1c9\\x83\\x9c\\t\\nZ\\xe3z\\x9c\\xb2\\xd4r}\\xf9\\xa3\\x97TP\\xd2\\xd6\\xe72q\\x11Z\\xa4\\x8f\\x15\\x97f\\xe5Xk\\x01B\\xc4C\\x0eP\\xa5\\x7f\\xbd\\xfb\\x9c\\x03\\x01A%\\xc5*\\xa6\\x85\\xbaL\\xc7\\xa8x\\xe6sEU\\xd8.*\\\\{Q2w\\xbd\\xa4\\xc1\\xd6l\\x06T=+\\x95\\x9c\\xc9\\r\\xc18\\x06-\\xc5Oq\\x181\\x1d\\x8d&\\x90\\x04B\\xe1g\\xe2i\\xcaIM\\xd5\\xa7\\xe7,\\x9e.sW\\xa4\\x12\\xaf\\xe5j^\\x08\\xdaMR\\xb3n\\x1bf\\x16\\x91\\xbb\\xb8WD\\x9e\\xe2\\xaa\\xf2u$\"\\xbaTb\\x179\\x8f8G\\xc8NG\\xea<\\xb0\\x9a\\x97\\xb2\\xe4\\x9b\\x82\\x95X\\x06\\xaf~\\xc8\\x15Gre\\x980\\x12w\\x9dp2\\x8d\\xe8\\xe0\\x89\\n\\xe2\\xcb\\xdeG\\xbe\\x1b\\x97\\x1c\\xad\\xa7\\x05z\\xb5\\xb0\\xa0q\\xc4E\\x03{I\\xaaqq\\x9f\\xfay\\xdc\\xd9@\\xbd\\n*\\x0b\\xa3\\x0b\\x98\\xcf\\xd0\\xbb9>U8\\xb6\\x18\\xa4k\\x16W\\xe3\\xfa^\\xb0L(\\x8braT\\xae\\xae\\xc3Z\\xc6\\xe0j=\\xca\\xf8\\xb3\\x917\\xc0\\xf1PT\\xc9\\x1a\\x7f)\\x1eK\\x1d; \\x17!\\x13\\xc6\\x97\\x8dL\\x93\\xc3$D\\x8c,\\xaat\\x98\\x02]\\xae\\x17\\x95\\xa8\\xe2_\\xda\\xce\\xd4z\\x8b\\xf2\\xcd\\x0ej\\xd4vO\\x90w\\x82\\x1bB\\xdeX\\x16\\x1c\\x8a\\x02]\\n\\xd9\\x86\\xbf\\x17\\xaaD\\x84*\\x8f\\xaa&;z\\xa6\"\\xc2(\\x8c\\x88\\x9cB\\xaa\\xa2\\x96\\xed\"\\xe2\\xb8\\x14\\xf3E\\x03$\\xaa\\xcaS7\\x19\\x98,^o\\x95\\xa1\\xb8\\xbc\\xd6\\xe6\\x06\\xa4\\xe7\\xa1\\xed\\xd5\\xc1\\xb2y\\x0bF\\x10\\xbc\\x96B\\xa5\\x08\\xd9\\x96\\x14\\x1b\\x86\\xa3\\x86\\xa1.\\x89\\xc7{I\\x98\"\\xb9\\xd8\\xbe\\x9c\\x8d\\xb3\\x95\\xaf\\xc7N\\xe4O\\x90S\\x1c9\\x87\\x8dV\\xcb>\\xb7\\xaf\\x9b\\x830\\x1c \\xddy\\xe2\\xc7\\xac:\\xd2=hi\\xbd\\xb8u\\xfe9E-\\xc4V\\xbb\\xb9\\xd7\\xec\\xa8\\x8b&R\\x1e\\x9a\\xe7\\xb2J!\\xb7$\\xe19\\x90\\xcdv\\xaf\\xc0[pH\\xd9\\xf9O\\xf4\\xa1\\xf8\\xc7?\\x10\\x11*#[\\x9aWP|\\xbc\\xf55\\xf5\\xa2\\xea\\x9f\\x18\\x12\\x0e\\x9d>\\x8f\\xcd\\xfeP\\x05\\x0f\\xfd\\xe5\\x1d\\xfdWK5\\xbeF\\xe72\\xccv\\xba\\xcaXR\\x1f\\xa3iw\\x9am5\\x1c\\x0b\\x89A_aD\\xa9\\x8fAQ\\xb7\\x0bFU1E%\\x14\\x8d\\xed8\\x0c\\xa2isr1p\\xe7C^\\x8db:>\\x0e\\x02\\xc0\\x19\\xa5\\xa8\\xe6Z\\x9a\\xc8B\\xeft\\xc0\\xd6a\\x83j\\xa3\\xb7\\xceQ\\xefU\\xe2\\x1dU\\xd7y\\xdd\\xe4@\\xb1\\x8aE\\x18\\xf4\\xfa{\\x1dgcgks\\xd7\\xe9S\\xbb\\xc8\\x0b\\xb7\\x11\\xcf\\x8f2\\xd5i\\xd2\\xb7`\\xcc\\x15\\xe7N\\xeay\\xb4\\xea\\x7f\\xf5\\xfbb\\x04\\xd9y|$v?\\x16V\\x13\\x1f\\xf2\\xb5\\x04\\x0c\\x93Q\\x8a\\x88\\x9d\\xb8u|\\xb4\\xc7\\xa0\\xec\\xd9\\xfd\\x1d\\xaf\\xb3\\xe3\\xec\\xda\\x9b\\xbde@!2\\x92c\\xbf\\xfb+\\xf4F\\xbf\\xff1+\\xd4U\\x02p\\xef\\xcb\\x00DMh\\xf0#\\xa4\\xe1y\\xeei2\\x1d\\xc1\\x0e\\x01\\xb4\\xeeV\\xdb\\xdds\\xdcG{}\\x94`[\\x02qs\\xa0\\x95H\\xe5\\xa1 4\\xa2%\\xd3\\x99\\x91\\x03\\x829\\xef\\xde\\xf9\\xff\\x8cR\\xab\\xa1\\xe8\\xc8\\x00\\x00'\n"
     ]
    }
   ],
   "source": [
    "# Imprimindo html\n",
    "print(html)"
   ]
  },
  {
   "cell_type": "markdown",
   "metadata": {},
   "source": [
    "# Fim"
   ]
  },
  {
   "cell_type": "markdown",
   "metadata": {
    "collapsed": true
   },
   "source": [
    "### Obrigado\n",
    "\n",
    "### Visite o Blog da Data Science Academy - <a href=\"http://blog.dsacademy.com.br\">Blog DSA</a>"
   ]
  }
 ],
 "metadata": {
  "kernelspec": {
   "display_name": "Python 3 (ipykernel)",
   "language": "python",
   "name": "python3"
  },
  "language_info": {
   "codemirror_mode": {
    "name": "ipython",
    "version": 3
   },
   "file_extension": ".py",
   "mimetype": "text/x-python",
   "name": "python",
   "nbconvert_exporter": "python",
   "pygments_lexer": "ipython3",
   "version": "3.9.13"
  }
 },
 "nbformat": 4,
 "nbformat_minor": 1
}
